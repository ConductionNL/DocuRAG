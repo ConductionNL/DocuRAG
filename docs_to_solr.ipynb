{
 "cells": [
  {
   "cell_type": "code",
   "execution_count": 19,
   "id": "47b50964",
   "metadata": {},
   "outputs": [
    {
     "name": "stdout",
     "output_type": "stream",
     "text": [
      "The autoreload extension is already loaded. To reload it, use:\n",
      "  %reload_ext autoreload\n"
     ]
    },
    {
     "data": {
      "text/plain": [
       "True"
      ]
     },
     "execution_count": 19,
     "metadata": {},
     "output_type": "execute_result"
    }
   ],
   "source": [
    "%load_ext autoreload\n",
    "%autoreload 2\n",
    "\n",
    "import json\n",
    "import pysolr\n",
    "import os\n",
    "from dotenv import load_dotenv\n",
    "\n",
    "load_dotenv()"
   ]
  },
  {
   "cell_type": "code",
   "execution_count": 21,
   "id": "4f8067a8",
   "metadata": {},
   "outputs": [],
   "source": [
    "SOLR_DOCS_URL = \"http://localhost:8983/solr/docuDOCS\"  \n",
    "JSON_FILE = \"woo_docs.json\" \n",
    "\n",
    "solr_rag_url = os.getenv(\"SOLR_RAG_URL\")\n",
    "username = os.getenv(\"SOLR_USER\")\n",
    "password = os.getenv(\"SOLR_PASSWORD\")\n"
   ]
  },
  {
   "cell_type": "code",
   "execution_count": 22,
   "id": "2150fb21",
   "metadata": {},
   "outputs": [],
   "source": [
    "solr_docs = pysolr.Solr(SOLR_DOCS_URL, always_commit=True, timeout=10)\n",
    "solr_rag = pysolr.Solr(solr_rag_url, always_commit=True, timeout=10, auth=(username, password))"
   ]
  },
  {
   "cell_type": "markdown",
   "id": "0383005b",
   "metadata": {},
   "source": [
    "## Local files -> DocuDOCS collection"
   ]
  },
  {
   "cell_type": "markdown",
   "id": "75052494",
   "metadata": {},
   "source": [
    "This piece of code uploads local files to SOLR. "
   ]
  },
  {
   "cell_type": "code",
   "execution_count": 4,
   "id": "b691f144",
   "metadata": {},
   "outputs": [],
   "source": [
    "with open(JSON_FILE, \"r\", encoding=\"utf-8\") as f:\n",
    "    docs = json.load(f)"
   ]
  },
  {
   "cell_type": "code",
   "execution_count": 5,
   "id": "c3defa37",
   "metadata": {},
   "outputs": [],
   "source": [
    "if isinstance(docs, dict):\n",
    "    docs = [docs]"
   ]
  },
  {
   "cell_type": "code",
   "execution_count": null,
   "id": "9d9e4c25",
   "metadata": {},
   "outputs": [
    {
     "name": "stdout",
     "output_type": "stream",
     "text": [
      "✔️ Skipping unchanged doc 1\n",
      "✔️ Skipping unchanged doc 2\n",
      "✔️ Skipping unchanged doc 3\n",
      "✔️ Skipping unchanged doc 4\n",
      "✔️ Skipping unchanged doc 5\n",
      "✔️ Skipping unchanged doc 6\n",
      "✔️ Skipping unchanged doc 7\n",
      "✔️ Skipping unchanged doc 8\n",
      "✔️ Skipping unchanged doc 9\n",
      "✔️ Skipping unchanged doc 10\n",
      "✅ Uploaded 10 new/updated docs to rag_docs\n"
     ]
    }
   ],
   "source": [
    "to_add = []\n",
    "for doc in docs:\n",
    "    doc_id = str(doc[\"id\"])  # ensure string id\n",
    "    doc_date = doc.get(\"date\")\n",
    "\n",
    "    # Use 'date' as 'last_updated'\n",
    "    doc[\"last_updated\"] = doc_date\n",
    "    # Check if doc already exists in Solr\n",
    "    results = solr_docs.search(q=f\"id:{doc_id}\", fl=\"id,last_updated\", rows=1)\n",
    "\n",
    "    if not results:  \n",
    "        # New doc → add\n",
    "        to_add.append(doc)\n",
    "        print(f\"➕ Adding new doc {doc_id}\")\n",
    "    else:\n",
    "        # Existing doc → compare last_updated\n",
    "        existing = results.docs[0]\n",
    "        existing_ts = existing.get(\"last_updated\")\n",
    "        if type(existing_ts) == list:\n",
    "            existing_ts = existing_ts[0]\n",
    "        \n",
    "        if not existing_ts or doc_date > existing_ts:\n",
    "            to_add.append(doc)\n",
    "            print(f\"♻️ Updating doc {doc_id}\")\n",
    "        else:\n",
    "            print(f\"✔️ Skipping unchanged doc {doc_id}\")\n",
    "\n",
    "# Send updates to Solr\n",
    "if to_add:\n",
    "    solr_docs.add(to_add)\n",
    "    print(f\"✅ Uploaded {len(to_add)} new/updated docs to rag_docs\")\n",
    "else:\n",
    "    print(\"ℹ️ No new or updated docs to upload\")"
   ]
  },
  {
   "cell_type": "code",
   "execution_count": 7,
   "id": "e085a840",
   "metadata": {},
   "outputs": [
    {
     "name": "stdout",
     "output_type": "stream",
     "text": [
      "{'id': '1', 'title': 'WOO-verzoek inzake opvanglocaties AZC’s', 'municipality': 'Gemeente Wageningen', 'date': '2023-05-12T00:00:00Z', 'summary': ['Verzoek tot openbaarmaking van documenten over besluitvorming rondom uitbreiding van asielzoekerscentra en tijdelijke opvangplaatsen.'], 'text': 'Dit document bevat de volledige openbaarmaking van beleidsstukken, vergadernotulen en interne adviezen die betrekking hebben op de besluitvorming rondom de uitbreiding van asielzoekerscentra (AZC’s) binnen de gemeente Wageningen. Het doel van deze openbaarmaking is om transparantie te bieden over de afwegingen die hebben geleid tot de keuze voor specifieke locaties en de communicatie met bewoners, maatschappelijke organisaties en het COA.\\n\\nIn de voorbereidende fase is uitvoerig onderzocht welke locaties geschikt zouden kunnen zijn voor de tijdelijke en permanente opvang van asielzoekers. Hierbij zijn criteria gehanteerd zoals bereikbaarheid met openbaar vervoer, beschikbaarheid van voorzieningen in de directe omgeving en de mate waarin de inpassing in de wijk haalbaar is. Uit de stukken blijkt dat er binnen de gemeenteraad verschillende meningen bestonden over de balans tussen draagvlak en urgentie. Sommige fracties benadrukten dat de gemeente een landelijke verantwoordelijkheid heeft, terwijl andere partijen grote zorgen uitten over de druk op bestaande voorzieningen, zoals scholen en huisartsen.\\n\\nDe documenten tonen ook de uitgebreide correspondentie met het COA, waarin onder meer afspraken zijn gemaakt over de maximale capaciteit per locatie, de duur van de opvang en de financiering van bijkomende faciliteiten. In een notitie van 14 februari 2023 wordt beschreven hoe de gemeente samen met het COA een plan opstelt voor buurtcommunicatie en participatie. Er worden bewonersavonden georganiseerd en een informatiepunt ingericht om vragen te beantwoorden en zorgen weg te nemen.\\n\\nVerder bevat dit dossier juridische adviezen met betrekking tot bestemmingsplanprocedures. In sommige gevallen moest de gemeente een versnelde procedure doorlopen om tijdig opvangcapaciteit beschikbaar te stellen. In een memo van de afdeling Ruimtelijke Ordening wordt gewezen op de spanning tussen snelheid en zorgvuldigheid: enerzijds moet de opvang snel worden gerealiseerd vanwege de hoge instroom, anderzijds moeten belanghebbenden voldoende gelegenheid krijgen om bezwaar te maken.\\n\\nUit de documenten blijkt dat er ook contact is geweest met omliggende gemeenten en de provincie Gelderland, waarbij afspraken zijn gemaakt om de spreiding van opvanglocaties evenwichtiger te verdelen. Daarnaast zijn er verslagen opgenomen van overleg met maatschappelijke organisaties zoals VluchtelingenWerk, die adviseren over integratie en begeleiding van bewoners.\\n\\nDe openbaar gemaakte stukken beslaan ruim 800 pagina’s, waarvan een groot deel notulen van commissievergaderingen, interne beleidsnotities en correspondentie met externe partners. De rode draad in de besluitvorming is dat de gemeente Wageningen erkent dat opvang noodzakelijk is, maar dat dit zorgvuldig en met oog voor draagvlak moet gebeuren. Dit WOO-document biedt daarmee een compleet beeld van de overwegingen, zorgen, oplossingen en afspraken die de afgelopen anderhalf jaar zijn gemaakt in het kader van de opvang van asielzoekers binnen de gemeente.', 'last_updated': ['2023-05-12T00:00:00Z'], '_version_': 1842883484697231360, '_root_': '1'}\n",
      "{'id': '2', 'title': 'WOO-besluit over verkeersveiligheidsplan', 'municipality': 'Gemeente Eindhoven', 'date': '2022-11-03T00:00:00Z', 'summary': ['Openbaarmaking van interne notities en rapportages over het herinrichtingsplan van de Vestdijk ter bevordering van verkeersveiligheid.'], 'text': 'Het onderhavige document betreft de openbaarmaking van beleidsstukken, onderzoeksrapporten en adviesnota’s die zijn opgesteld in het kader van de herinrichting van de Vestdijk in Eindhoven. Deze herinrichting is onderdeel van een breder verkeersveiligheidsplan dat als doel heeft de doorstroming te verbeteren, de luchtkwaliteit te verhogen en de veiligheid van kwetsbare verkeersdeelnemers, zoals fietsers en voetgangers, te waarborgen.\\n\\nDe achtergrond van dit dossier ligt in jarenlange klachten van bewoners en ondernemers over de drukte en luchtvervuiling op de Vestdijk. Uit diverse metingen, die zijn toegevoegd aan dit WOO-dossier, blijkt dat de concentratie fijnstof en stikstofdioxide op meerdere meetpunten boven de Europese normen uitkwam. Daarnaast registreerde de politie een bovengemiddeld aantal verkeersongevallen in dit gebied, waarvan een aanzienlijk deel met fietsers.\\n\\nDe openbaar gemaakte stukken bevatten onder meer verslagen van raadscommissies waarin verschillende scenario’s voor herinrichting werden besproken. Eén scenario betrof het volledig afsluiten van de Vestdijk voor doorgaand autoverkeer, terwijl een ander scenario de invoering van een eenrichtingssituatie en bredere fietspaden omvatte. Uiteindelijk koos de gemeenteraad voor een combinatie van maatregelen, waaronder een knip voor doorgaand verkeer, de aanleg van extra groenvoorzieningen en de verbreding van trottoirs en fietsstroken.\\n\\nNaast de beleidsmatige stukken zijn ook de resultaten van burgerparticipatie toegevoegd. Uit de verslaglegging blijkt dat er vijf bewonersavonden zijn georganiseerd en dat honderden reacties via een online platform zijn ontvangen. Veel inwoners spraken hun steun uit voor de maatregelen, al waren er ook zorgen over bereikbaarheid voor auto’s en bevoorrading van winkels.\\n\\nVerder bevat dit dossier interne adviezen van de afdeling Verkeer en Vervoer, waarin wordt gewezen op de noodzaak om maatregelen gefaseerd door te voeren. Ook zijn er rapportages van externe adviesbureaus opgenomen, die met verkeersmodellen inzicht geven in de effecten op doorstroming en luchtkwaliteit. Uit deze rapportages blijkt dat de maatregelen naar verwachting leiden tot een afname van 25% van de autobewegingen en een meetbare verbetering van de luchtkwaliteit.\\n\\nDe openbaarmaking omvat ook correspondentie met de provincie Noord-Brabant en Rijkswaterstaat, aangezien de herinrichting invloed heeft op verkeersstromen in de bredere regio. De documenten laten zien dat er intensief is afgestemd om knelpunten te voorkomen en om de plannen in lijn te brengen met provinciale mobiliteitsdoelen.\\n\\nSamenvattend bieden de openbaar gemaakte documenten een gedetailleerd beeld van de complexe afwegingen rondom verkeersveiligheid, leefbaarheid en economische belangen. Het plan voor de Vestdijk geldt inmiddels als voorbeeldproject binnen Eindhoven en vormt de basis voor vergelijkbare ingrepen in andere stadsdelen. De stukken beslaan meer dan 800 woorden en geven zowel beleidsmatige, technische als maatschappelijke context bij de genomen besluiten.', 'last_updated': ['2022-11-03T00:00:00Z'], '_version_': 1842883484702474240, '_root_': '2'}\n",
      "{'id': '3', 'title': 'WOO-verzoek afvalinzameling en contracten', 'municipality': 'Gemeente Zwolle', 'date': '2021-06-19T00:00:00Z', 'summary': ['Documenten met betrekking tot aanbesteding en contractbeheer van afvalinzameling en verwerking met externe partijen.'], 'text': 'Dit WOO-document bevat de openbaarmaking van alle relevante stukken die betrekking hebben op de aanbestedingsprocedures, contractafspraken en evaluaties rondom de afvalinzameling en verwerking binnen de gemeente Zwolle. De openbaar gemaakte documenten omvatten beleidsnotities, aanbestedingsleidraden, interne adviezen en correspondentie met marktpartijen.\\n\\nEen belangrijk thema dat naar voren komt is de keuze voor een nieuwe afvalinzamelaar nadat de vorige contractperiode afliep in 2020. Uit de aanbestedingsstukken blijkt dat de gemeente een Europese openbare aanbesteding heeft uitgeschreven, waarbij nadrukkelijk is ingezet op duurzaamheid, innovatie en kostenbeheersing. Leveranciers werden gevraagd niet alleen een concurrerende prijs aan te bieden, maar ook plannen voor CO2-reductie, efficiëntere routes en burgerparticipatie in te dienen.\\n\\nIn de interne notities is veel aandacht voor de discussie binnen de gemeenteraad over de rol van diftar (gedifferentieerde tarieven) als middel om afvalscheiding te stimuleren. Sommige fracties waren fel tegen, omdat zij vrezen dat burgers afval in de natuur of ondergrondse containers dumpen. Andere partijen zagen diftar juist als effectief instrument om restafval terug te dringen.\\n\\nDe stukken bevatten tevens correspondentie met de winnende partij, waarin afspraken zijn vastgelegd over de frequentie van inzameling, de inzet van elektrische inzamelwagens en de mogelijkheid om pilots uit te voeren met nieuwe technieken, zoals ondergrondse sensoren in containers. In een memo van 8 oktober 2020 wordt uitgelegd hoe de gemeente afspraken heeft gemaakt om periodiek te evalueren en tussentijds bij te sturen indien nodig.\\n\\nDaarnaast zijn er rapportages over klachtenafhandeling toegevoegd. Uit de gegevens blijkt dat er in de eerste maanden na de nieuwe contractstart een toename was van klachten over niet geleegde containers, vooral in buitenwijken. De inzamelaar heeft daarop extra wagens ingezet en een digitaal meldsysteem geopend dat realtime klachten doorstuurt naar de centrale.\\n\\nOok bevat dit WOO-dossier stukken over de verwerking van afval. Zwolle streeft ernaar om restafval zoveel mogelijk te scheiden en herbruikbare grondstoffen terug te winnen. De contractstukken laten zien dat er afspraken zijn gemaakt met een verwerkingsbedrijf om organisch afval te vergisten en daarmee biogas te produceren.\\n\\nDe openbaarmaking toont dat de gemeente Zwolle worstelt met de balans tussen kosten, milieudoelstellingen en tevredenheid van bewoners. De documenten geven een genuanceerd beeld van de keuzes die zijn gemaakt en de effecten die die keuzes hebben gehad op de afvalketen in de stad.', 'last_updated': ['2021-06-19T00:00:00Z'], '_version_': 1842883484705619968, '_root_': '3'}\n",
      "{'id': '4', 'title': 'WOO-besluit energietransitie projecten', 'municipality': 'Gemeente Groningen', 'date': '2023-01-25T00:00:00Z', 'summary': ['Openbaarmaking van beleidsnota’s, subsidies en samenwerkingsafspraken in het kader van verduurzaming en aardgasvrije wijken.'], 'text': 'Dit document bevat de openbaarmaking van beleidsplannen, subsidieaanvragen, verslagen van bewonersbijeenkomsten en correspondentie met externe partners over de energietransitie in Groningen. De nadruk ligt op de plannen voor het aardgasvrij maken van wijken en de inzet van duurzame energiebronnen.\\n\\nDe openbaar gemaakte beleidsnota’s beschrijven hoe Groningen als stad voorop wil lopen in de energietransitie. De gemeenteraad stelde in 2020 het doel vast dat in 2035 alle woningen van het aardgas af moeten zijn. Daarvoor zijn diverse wijken geselecteerd als proeftuin. Uit de stukken blijkt dat Paddepoel en Helpman de eerste gebieden zijn waarin grootschalige aanpassingen plaatsvinden.\\n\\nEen groot deel van de openbaarmaking gaat over subsidies en financiering. De gemeente heeft Europese en landelijke middelen aangewend om bewoners te ondersteunen bij de overstap naar warmtepompen, isolatie en zonnepanelen. Uit interne adviezen blijkt dat er zorgen bestaan over de betaalbaarheid voor lagere inkomens. Daarom zijn speciale regelingen opgesteld die extra bijdragen voor huishoudens met een laag inkomen.\\n\\nIn de rapportages wordt uitgebreid verslag gedaan van de bewonersparticipatie. Er zijn informatieavonden georganiseerd en klankbordgroepen opgericht. Uit de verslagen blijkt dat bewoners vaak vragen hadden over de betrouwbaarheid van warmtenetten en de kosten op lange termijn. De gemeente heeft daarop toegezegd dat er heldere contractvoorwaarden komen en dat er een onafhankelijke toetsing plaatsvindt van de tarieven.\\n\\nVerder bevat het dossier correspondentie met energiebedrijven en woningcorporaties. De samenwerking met woningcorporaties is cruciaal, omdat zij verantwoordelijk zijn voor een groot deel van de woningen in de stad. Uit de documenten blijkt dat er afspraken zijn gemaakt over het gefaseerd aansluiten van sociale huurwoningen op warmtenetten.\\n\\nDe openbaar gemaakte stukken bevatten ook rapporten van externe adviesbureaus die technische haalbaarheidsstudies uitvoerden. Zij onderzochten de capaciteit van het elektriciteitsnet, de mogelijkheden voor aquathermie en de potentie van geothermie. Deze rapporten tonen dat er forse investeringen nodig zijn in de netinfrastructuur.\\n\\nDe documenten bieden daarmee een volledig beeld van de uitdagingen en kansen van de energietransitie in Groningen. Het gaat niet alleen om technische en financiële aspecten, maar ook om draagvlak, rechtvaardigheid en samenwerking.', 'last_updated': ['2023-01-25T00:00:00Z'], '_version_': 1842883484707717120, '_root_': '4'}\n",
      "{'id': '5', 'title': 'WOO-documentatie rond horeca-vergunningen', 'municipality': 'Gemeente Utrecht', 'date': '2022-09-14T00:00:00Z', 'summary': ['Besluiten en interne adviezen over de afgifte en intrekking van horeca-vergunningen in het centrumgebied.'], 'text': 'In dit openbaar gemaakte WOO-document zijn beleidsnota’s, vergunningaanvragen, bezwaarprocedures en interne adviezen opgenomen die betrekking hebben op de afgifte en intrekking van horeca-vergunningen in de binnenstad van Utrecht. De stukken beslaan de periode 2019–2022 en geven inzicht in de manier waarop de gemeente omgaat met de balans tussen levendigheid en leefbaarheid.\\n\\nEen belangrijk onderwerp in de stukken is de sterke toename van horeca in het centrum, vooral rondom de Oudegracht. Uit de adviezen blijkt dat de gemeente enerzijds de economische dynamiek waardeert, maar anderzijds bezorgd is over geluidsoverlast, drukte en de veiligheid op straat. Dit leidde tot strengere eisen bij het verlenen van nieuwe vergunningen, zoals geluidsisolatie en verplichte sluitingstijden.\\n\\nDe openbaar gemaakte documenten laten zien dat er meerdere keren vergunningen zijn ingetrokken wegens overtredingen, waaronder het overschrijden van geluidsnormen en het toelaten van te veel bezoekers. In de notities staat dat de gemeente handhavingscapaciteit heeft uitgebreid om beter toezicht te houden.\\n\\nDaarnaast bevatten de stukken correspondentie met bewonersgroepen, die vaak bezwaar maakten tegen nieuwe horecazaken. Uit de verslaglegging blijkt dat bewoners vrezen dat de leefbaarheid van hun wijk achteruitgaat. Tegelijkertijd wijzen ondernemers erop dat horeca belangrijk is voor de aantrekkingskracht van de stad.\\n\\nHet dossier bevat ook juridische adviezen waarin wordt benadrukt dat de gemeente zorgvuldig moet omgaan met intrekkingen, omdat ondernemers grote financiële belangen hebben. In enkele gevallen zijn zaken aan de rechter voorgelegd; de uitspraken daarvan zijn integraal opgenomen.\\n\\nDe openbaarmaking laat duidelijk zien hoe complex het speelveld is waarin de gemeente Utrecht moet opereren: economische belangen, toerisme, veiligheid en leefbaarheid komen allemaal samen in de besluitvorming rondom horeca-vergunningen.', 'last_updated': ['2022-09-14T00:00:00Z'], '_version_': 1842883484709814272, '_root_': '5'}\n",
      "{'id': '6', 'title': 'WOO-verzoek woningbouwproject ‘De Horizon’', 'municipality': 'Gemeente Almere', 'date': '2021-12-07T00:00:00Z', 'summary': ['Openbaarmaking van correspondentie met projectontwikkelaars en provinciale instanties over nieuwbouwlocatie ‘De Horizon’.'], 'text': 'Dit document bevat de openbaarmaking van stukken die betrekking hebben op de ontwikkeling van de nieuwbouwwijk ‘De Horizon’ in Almere. De openbaarmaking omvat correspondentie met projectontwikkelaars, beleidsnotities van de gemeente, adviezen van de provincie Flevoland en verslagen van bewonersbijeenkomsten.\\n\\nDe kern van het dossier betreft de vraag hoe Almere haar woningbouwopgave kan realiseren. Uit de beleidsstukken blijkt dat er in Almere een grote druk ligt om duizenden nieuwe woningen te bouwen, met name voor gezinnen en starters. ‘De Horizon’ is een project waarin ruim 3.000 woningen gepland zijn, met een mix van sociale huur, middeldure huur en koopwoningen.\\n\\nUit de openbaar gemaakte correspondentie blijkt dat er intensief overleg is geweest tussen gemeente en ontwikkelaars over de verdeling van woningtypen, de aanleg van voorzieningen en de infrastructuur. Een belangrijk discussiepunt betrof de vraag of er voldoende scholen en sportfaciliteiten zouden worden gerealiseerd. Uit een notitie van 15 mei 2021 blijkt dat de gemeente eisen stelde aan ontwikkelaars om tegelijkertijd met de woningen ook voorzieningen op te leveren.\\n\\nDe stukken bevatten verder adviezen van de provincie over de aansluiting op het regionale mobiliteitsnetwerk. De provincie wees op knelpunten in de bereikbaarheid en adviseerde investeringen in bus- en treinverbindingen. In de documenten wordt beschreven dat de gemeente samen met het Rijk middelen probeert te verkrijgen uit het Mobiliteitsfonds.\\n\\nOok zijn er verslagen van bewonersavonden opgenomen, waarin toekomstige bewoners hun zorgen en wensen kenbaar maakten. Veel vragen gingen over duurzaamheid, zoals de toepassing van zonnepanelen, warmtepompen en groene daken. De ontwikkelaars gaven aan dat duurzaamheid een integraal onderdeel is van het plan.\\n\\nDe openbaarmaking biedt een compleet beeld van de uitdagingen rondom grootschalige woningbouwprojecten in een groeigemeente als Almere.', 'last_updated': ['2021-12-07T00:00:00Z'], '_version_': 1842883484712960000, '_root_': '6'}\n",
      "{'id': '7', 'title': 'WOO-besluit subsidies cultuursector', 'municipality': 'Gemeente Den Haag', 'date': '2022-03-10T00:00:00Z', 'summary': ['Openbare documenten over criteria, toekenning en evaluatie van subsidies aan culturele instellingen.'], 'text': 'Dit WOO-document bevat beleidsnota’s, subsidieaanvragen, beoordelingsrapporten en evaluaties die betrekking hebben op de subsidieverlening aan culturele instellingen in Den Haag. De documenten bestrijken de periode 2018–2022.\\n\\nEen groot thema in de stukken is de verdeling van subsidies tussen grote gevestigde instellingen, zoals theaters en musea, en kleinere initiatieven in de wijken. Uit interne notities blijkt dat de gemeente bewust probeert een evenwicht te vinden, maar dat de meeste middelen toch naar de grotere instellingen gaan. Dit leidde tot kritiek vanuit de culturele sector, die meer ondersteuning voor kleinschalige initiatieven wenste.\\n\\nDe openbaar gemaakte beoordelingsrapporten laten zien hoe subsidieaanvragen werden beoordeeld op artistieke kwaliteit, publieksbereik en financiële onderbouwing. Sommige instellingen kregen geen subsidie vanwege onvoldoende onderbouwing, terwijl andere juist werden geprezen om hun innovatieve aanpak.\\n\\nHet dossier bevat ook evaluaties van eerdere subsidierondes. Daaruit blijkt dat sommige instellingen afhankelijk zijn geworden van structurele subsidie, terwijl de bedoeling was dat zij op termijn zelfstandiger zouden opereren. Dit leidde tot een discussie binnen de gemeenteraad over de vraag of subsidies wel voldoende effect sorteren.\\n\\nDaarnaast zijn er verslagen opgenomen van gesprekken met kunstenaars en instellingen, waarin zij aangeven dat zij zich onvoldoende gehoord voelen. De gemeente heeft daarop toegezegd de participatie te verbeteren.\\n\\nSamenvattend laat de openbaarmaking zien dat de gemeente Den Haag worstelt met de verdeling van middelen in de cultuursector en dat er een voortdurende zoektocht is naar balans tussen kwaliteit, spreiding en effectiviteit.', 'last_updated': ['2022-03-10T00:00:00Z'], '_version_': 1842883484715057152, '_root_': '7'}\n",
      "{'id': '8', 'title': 'WOO-verzoek luchtkwaliteit en meetgegevens', 'municipality': 'Gemeente Rotterdam', 'date': '2023-04-18T00:00:00Z', 'summary': ['Rapportages en interne memo’s met betrekking tot luchtkwaliteitsmetingen in de regio Rijnmond.'], 'text': 'Dit document bevat de openbaarmaking van meetgegevens, onderzoeksrapporten en interne adviezen die betrekking hebben op luchtkwaliteit in Rotterdam en de bredere regio Rijnmond. Het gaat om de periode 2019–2022.\\n\\nDe openbaar gemaakte rapportages bevatten uitgebreide meetgegevens van fijnstof (PM10 en PM2.5), stikstofdioxide en ozon. Uit de gegevens blijkt dat op verschillende locaties, met name in de buurt van de ring en de haven, de normen regelmatig werden overschreden. Dit leidde tot bezorgdheid bij bewoners en maatschappelijke organisaties.\\n\\nDe stukken bevatten ook interne memo’s waarin ambtenaren wijzen op de noodzaak van strengere maatregelen. Voorbeelden zijn de invoering van een zero-emissiezone voor vrachtwagens in 2025 en het stimuleren van elektrische mobiliteit. Uit correspondentie blijkt dat de gemeente intensief samenwerkt met de provincie en het Rijk om aanvullende maatregelen mogelijk te maken.\\n\\nDaarnaast zijn er verslagen opgenomen van gesprekken met bewonersgroepen en milieuorganisaties. Zij dringen aan op sneller en krachtiger ingrijpen. De gemeente heeft toegezegd extra meetpunten te plaatsen en de resultaten publiek toegankelijk te maken via een online dashboard.\\n\\nDe openbaarmaking toont duidelijk hoe de gemeente Rotterdam de problematiek erkent en tracht op te lossen, maar ook hoe groot de uitdagingen zijn gezien de omvang van de haven en het verkeer.', 'last_updated': ['2023-04-18T00:00:00Z'], '_version_': 1842883484716105728, '_root_': '8'}\n",
      "{'id': '9', 'title': 'WOO-besluit jeugdzorgcontracten', 'municipality': 'Gemeente Amersfoort', 'date': '2021-10-02T00:00:00Z', 'summary': ['Openbaarmaking van aanbestedingsdocumenten en afspraken met jeugdzorgaanbieders.'], 'text': 'Dit WOO-document bevat de openbaarmaking van aanbestedingsstukken, contracten en evaluatierapporten die betrekking hebben op de jeugdzorg in Amersfoort. Het dossier bestrijkt de periode 2018–2021.\\n\\nDe stukken laten zien dat de gemeente een aanbestedingsprocedure heeft gevolgd waarbij nadruk lag op kwaliteit en continuïteit van zorg. Uit de documenten blijkt dat meerdere aanbieders zijn gecontracteerd, maar dat er zorgen bestaan over de beschikbaarheid van specialistische zorg.\\n\\nInterne adviezen tonen dat de gemeente moeite had om grip te krijgen op de kosten. De uitgaven aan jeugdzorg namen sneller toe dan verwacht, waardoor bezuinigingen in andere domeinen nodig waren. Dit leidde tot discussie binnen de gemeenteraad.\\n\\nVerder zijn er rapportages van evaluatiegesprekken met aanbieders, waarin wordt vastgesteld dat wachttijden te lang waren en dat sommige aanbieders moeite hadden om voldoende personeel te vinden. De gemeente kondigde daarop maatregelen aan om meer regionaal samen te werken en gezamenlijk in te kopen.\\n\\nDe openbaarmaking biedt een genuanceerd beeld van de problemen en verbeterpunten in de jeugdzorg in Amersfoort.', 'last_updated': ['2021-10-02T00:00:00Z'], '_version_': 1842883484718202880, '_root_': '9'}\n",
      "{'id': '10', 'title': 'WOO-verzoek herinrichting stadspark', 'municipality': 'Gemeente Maastricht', 'date': '2022-07-29T00:00:00Z', 'summary': ['Besluiten, adviezen en tekeningen over de renovatie en herinrichting van het stadspark inclusief burgerparticipatieverslagen.'], 'text': 'Dit document bevat de openbaarmaking van beleidsstukken, ontwerptekeningen, verslagen van bewonersparticipatie en interne adviezen met betrekking tot de herinrichting van het stadspark in Maastricht. De stukken beslaan de periode 2019–2022.\\n\\nEen groot thema in de stukken is de wens om het park groener, veiliger en beter toegankelijk te maken. Uit de beleidsnota’s blijkt dat de gemeente wil investeren in meer bomen, betere verlichting en nieuwe speelvoorzieningen. Er wordt ook aandacht besteed aan biodiversiteit, met plannen voor bloemenweides en vleermuiskasten.\\n\\nDe openbaar gemaakte verslagen van bewonersbijeenkomsten tonen dat veel bewoners enthousiast zijn, maar dat er ook zorgen bestaan over mogelijke evenementen in het park. Sommigen vrezen geluidsoverlast, terwijl anderen juist meer culturele activiteiten wensen.\\n\\nDe interne adviezen benadrukken dat de balans tussen recreatie en natuurbehoud belangrijk is. Er zijn ook juridische stukken toegevoegd over de benodigde vergunningen.\\n\\nDe openbaarmaking geeft een compleet beeld van de plannen en de totstandkoming van de herinrichting. Het laat zien hoe de gemeente Maastricht probeert rekening te houden met uiteenlopende belangen.', 'last_updated': ['2022-07-29T00:00:00Z'], '_version_': 1842883484719251456, '_root_': '10'}\n"
     ]
    }
   ],
   "source": [
    "results = solr_docs.search(\"*:*\", rows=50)\n",
    "\n",
    "for r in results:\n",
    "    print(r)"
   ]
  },
  {
   "cell_type": "markdown",
   "id": "ad80eb65",
   "metadata": {},
   "source": [
    "## docs -> docuRAG"
   ]
  },
  {
   "cell_type": "code",
   "execution_count": 23,
   "id": "1dffe20b",
   "metadata": {},
   "outputs": [],
   "source": [
    "from embeddings import build_items, encode_cpu, search_solr\n",
    "from RAG import augmented_generation"
   ]
  },
  {
   "cell_type": "markdown",
   "id": "998628f7",
   "metadata": {},
   "source": [
    "### Docs -> embeddings -> SOLR"
   ]
  },
  {
   "cell_type": "markdown",
   "id": "307c67f9",
   "metadata": {},
   "source": [
    "create embeddings for test documents and save them in SOLR"
   ]
  },
  {
   "cell_type": "code",
   "execution_count": 24,
   "id": "481f1ad0",
   "metadata": {},
   "outputs": [
    {
     "name": "stderr",
     "output_type": "stream",
     "text": [
      "INFO:sentence_transformers.SentenceTransformer:Load pretrained SentenceTransformer: intfloat/multilingual-e5-small\n",
      "Batches: 100%|██████████| 1/1 [00:01<00:00,  1.96s/it]\n",
      "INFO:pysolr:Finished 'https://solr.commonground.nu/solr/chunks/update/?commit=true' (post) with body '[{\"vector_' in 1.026 seconds, with status 200\n"
     ]
    },
    {
     "name": "stdout",
     "output_type": "stream",
     "text": [
      "Indexed 16 chunks.\n"
     ]
    }
   ],
   "source": [
    "with open(JSON_FILE, \"r\", encoding=\"utf-8\") as f:\n",
    "    docs = json.load(f)\n",
    "\n",
    "items = build_items(docs, chunk_size=300, overlap=30)\n",
    "texts = [it[\"text\"] for it in items]\n",
    "emb = encode_cpu(texts)\n",
    "for i, item in enumerate(items):\n",
    "    item[\"emb\"] = emb[i].tolist()\n",
    "solr_rag.add(items)\n",
    "print(f\"Indexed {len(items)} chunks.\")"
   ]
  },
  {
   "cell_type": "markdown",
   "id": "56ea5e39",
   "metadata": {},
   "source": [
    "### User question -> SOLR top embeddings"
   ]
  },
  {
   "cell_type": "code",
   "execution_count": 25,
   "id": "3775f0d2",
   "metadata": {},
   "outputs": [
    {
     "name": "stderr",
     "output_type": "stream",
     "text": [
      "INFO:pysolr:Finished 'https://solr.commonground.nu/solr/chunks/select/?q=%2A%3A%2A&rows=0&wt=json' (get) with body '' in 0.278 seconds, with status 200\n"
     ]
    },
    {
     "name": "stdout",
     "output_type": "stream",
     "text": [
      "numFound: 16\n"
     ]
    }
   ],
   "source": [
    "# Check SOLR connection, print number of documents in the index\n",
    "print(\"numFound:\", solr_rag.search(q=\"*:*\", rows=0).hits)"
   ]
  },
  {
   "cell_type": "code",
   "execution_count": 26,
   "id": "66c637a9",
   "metadata": {},
   "outputs": [
    {
     "name": "stderr",
     "output_type": "stream",
     "text": [
      "INFO:pysolr:Finished 'https://solr.commonground.nu/solr/chunks/select/?q=%2A%3A%2A&wt=json' (get) with body '' in 0.163 seconds, with status 200\n"
     ]
    },
    {
     "name": "stdout",
     "output_type": "stream",
     "text": [
      "<pysolr.Results object at 0x787f5c989730>\n",
      "{'vector_id': ['1:2f904faa:0'], 'doc_id': '1', 'version': '2f904faa', 'municipality': ['Gemeente Wageningen'], 'date': ['2023-05-12T00:00:00Z'], 'title': ['WOO-verzoek inzake opvanglocaties AZC’s'], 'chunk_id': '1', 'text': ['WOO-verzoek inzake opvanglocaties AZC’s Verzoek tot openbaarmaking van documenten over besluitvorming rondom uitbreiding van asielzoekerscentra en tijdelijke opvangplaatsen. Dit document bevat de volledige openbaarmaking van beleidsstukken, vergadernotulen en interne adviezen die betrekking hebben op de besluitvorming rondom de uitbreiding van asielzoekerscentra (AZC’s) binnen de gemeente Wageningen. Het doel van deze openbaarmaking is om transparantie te bieden over de afwegingen die hebben geleid tot de keuze voor specifieke locaties en de communicatie met bewoners, maatschappelijke organisaties en het COA. In de voorbereidende fase is uitvoerig onderzocht welke locaties geschikt zouden kunnen zijn voor de tijdelijke en permanente opvang van asielzoekers. Hierbij zijn criteria gehanteerd zoals bereikbaarheid met openbaar vervoer, beschikbaarheid van voorzieningen in de directe omgeving en de mate waarin de inpassing in de wijk haalbaar is. Uit de stukken blijkt dat er binnen de gemeenteraad verschillende meningen bestonden over de balans tussen draagvlak en urgentie. Sommige fracties benadrukten dat de gemeente een landelijke verantwoordelijkheid heeft, terwijl andere partijen grote zorgen uitten over de druk op bestaande voorzieningen, zoals scholen en huisartsen. De documenten tonen ook de uitgebreide correspondentie met het COA, waarin onder meer afspraken zijn gemaakt over de maximale capaciteit per locatie, de duur van de opvang en de financiering van bijkomende faciliteiten. In een notitie van 14 februari 2023 wordt beschreven hoe de gemeente samen met het COA een plan opstelt voor buurtcommunicatie en participatie. Er worden bewonersavonden georganiseerd en een informatiepunt ingericht om vragen te beantwoorden en zorgen weg te nemen. Verder bevat dit dossier juridische adviezen met betrekking tot bestemmingsplanprocedures. In sommige gevallen moest de gemeente een versnelde procedure doorlopen om tijdig opvangcapaciteit beschikbaar te stellen. In een memo van de afdeling Ruimtelijke Ordening wordt gewezen op de spanning tussen snelheid en zorgvuldigheid: enerzijds moet de opvang snel worden gerealiseerd vanwege de hoge instroom, anderzijds moeten'], 'id': 'e6ae6d3c-95f9-428b-ab31-762d628eddaa', '_version_': 1842888695932256256}\n",
      "{'vector_id': ['1:2f904faa:1'], 'doc_id': '1', 'version': '2f904faa', 'municipality': ['Gemeente Wageningen'], 'date': ['2023-05-12T00:00:00Z'], 'title': ['WOO-verzoek inzake opvanglocaties AZC’s'], 'chunk_id': '2', 'text': ['In een memo van de afdeling Ruimtelijke Ordening wordt gewezen op de spanning tussen snelheid en zorgvuldigheid: enerzijds moet de opvang snel worden gerealiseerd vanwege de hoge instroom, anderzijds moeten belanghebbenden voldoende gelegenheid krijgen om bezwaar te maken. Uit de documenten blijkt dat er ook contact is geweest met omliggende gemeenten en de provincie Gelderland, waarbij afspraken zijn gemaakt om de spreiding van opvanglocaties evenwichtiger te verdelen. Daarnaast zijn er verslagen opgenomen van overleg met maatschappelijke organisaties zoals VluchtelingenWerk, die adviseren over integratie en begeleiding van bewoners. De openbaar gemaakte stukken beslaan ruim 800 pagina’s, waarvan een groot deel notulen van commissievergaderingen, interne beleidsnotities en correspondentie met externe partners. De rode draad in de besluitvorming is dat de gemeente Wageningen erkent dat opvang noodzakelijk is, maar dat dit zorgvuldig en met oog voor draagvlak moet gebeuren. Dit WOO-document biedt daarmee een compleet beeld van de overwegingen, zorgen, oplossingen en afspraken die de afgelopen anderhalf jaar zijn gemaakt in het kader van de opvang van asielzoekers binnen de gemeente.'], 'id': '00ad95a1-a1a9-423d-a96b-1d5a9a246cb9', '_version_': 1842888696012996608}\n",
      "{'vector_id': ['2:3f034d5c:0'], 'doc_id': '2', 'version': '3f034d5c', 'municipality': ['Gemeente Eindhoven'], 'date': ['2022-11-03T00:00:00Z'], 'title': ['WOO-besluit over verkeersveiligheidsplan'], 'chunk_id': '1', 'text': ['WOO-besluit over verkeersveiligheidsplan Openbaarmaking van interne notities en rapportages over het herinrichtingsplan van de Vestdijk ter bevordering van verkeersveiligheid. Het onderhavige document betreft de openbaarmaking van beleidsstukken, onderzoeksrapporten en adviesnota’s die zijn opgesteld in het kader van de herinrichting van de Vestdijk in Eindhoven. Deze herinrichting is onderdeel van een breder verkeersveiligheidsplan dat als doel heeft de doorstroming te verbeteren, de luchtkwaliteit te verhogen en de veiligheid van kwetsbare verkeersdeelnemers, zoals fietsers en voetgangers, te waarborgen. De achtergrond van dit dossier ligt in jarenlange klachten van bewoners en ondernemers over de drukte en luchtvervuiling op de Vestdijk. Uit diverse metingen, die zijn toegevoegd aan dit WOO-dossier, blijkt dat de concentratie fijnstof en stikstofdioxide op meerdere meetpunten boven de Europese normen uitkwam. Daarnaast registreerde de politie een bovengemiddeld aantal verkeersongevallen in dit gebied, waarvan een aanzienlijk deel met fietsers. De openbaar gemaakte stukken bevatten onder meer verslagen van raadscommissies waarin verschillende scenario’s voor herinrichting werden besproken. Eén scenario betrof het volledig afsluiten van de Vestdijk voor doorgaand autoverkeer, terwijl een ander scenario de invoering van een eenrichtingssituatie en bredere fietspaden omvatte. Uiteindelijk koos de gemeenteraad voor een combinatie van maatregelen, waaronder een knip voor doorgaand verkeer, de aanleg van extra groenvoorzieningen en de verbreding van trottoirs en fietsstroken. Naast de beleidsmatige stukken zijn ook de resultaten van burgerparticipatie toegevoegd. Uit de verslaglegging blijkt dat er vijf bewonersavonden zijn georganiseerd en dat honderden reacties via een online platform zijn ontvangen. Veel inwoners spraken hun steun uit voor de maatregelen, al waren er ook zorgen over bereikbaarheid voor auto’s en bevoorrading van winkels. Verder bevat dit dossier interne adviezen van de afdeling Verkeer en Vervoer, waarin wordt gewezen op de noodzaak om maatregelen gefaseerd door te voeren. Ook zijn er rapportages van externe adviesbureaus opgenomen, die met verkeersmodellen inzicht geven in de effecten'], 'id': '1aceb1fd-8b03-43e2-939d-b54447ce3cfc', '_version_': 1842888696017190912}\n",
      "{'vector_id': ['2:3f034d5c:1'], 'doc_id': '2', 'version': '3f034d5c', 'municipality': ['Gemeente Eindhoven'], 'date': ['2022-11-03T00:00:00Z'], 'title': ['WOO-besluit over verkeersveiligheidsplan'], 'chunk_id': '2', 'text': ['en Vervoer, waarin wordt gewezen op de noodzaak om maatregelen gefaseerd door te voeren. Ook zijn er rapportages van externe adviesbureaus opgenomen, die met verkeersmodellen inzicht geven in de effecten op doorstroming en luchtkwaliteit. Uit deze rapportages blijkt dat de maatregelen naar verwachting leiden tot een afname van 25% van de autobewegingen en een meetbare verbetering van de luchtkwaliteit. De openbaarmaking omvat ook correspondentie met de provincie Noord-Brabant en Rijkswaterstaat, aangezien de herinrichting invloed heeft op verkeersstromen in de bredere regio. De documenten laten zien dat er intensief is afgestemd om knelpunten te voorkomen en om de plannen in lijn te brengen met provinciale mobiliteitsdoelen. Samenvattend bieden de openbaar gemaakte documenten een gedetailleerd beeld van de complexe afwegingen rondom verkeersveiligheid, leefbaarheid en economische belangen. Het plan voor de Vestdijk geldt inmiddels als voorbeeldproject binnen Eindhoven en vormt de basis voor vergelijkbare ingrepen in andere stadsdelen. De stukken beslaan meer dan 800 woorden en geven zowel beleidsmatige, technische als maatschappelijke context bij de genomen besluiten.'], 'id': '3a6d733f-9728-4d16-9af5-1375b1d9b106', '_version_': 1842888696021385216}\n",
      "{'vector_id': ['3:f0806afd:0'], 'doc_id': '3', 'version': 'f0806afd', 'municipality': ['Gemeente Zwolle'], 'date': ['2021-06-19T00:00:00Z'], 'title': ['WOO-verzoek afvalinzameling en contracten'], 'chunk_id': '1', 'text': ['WOO-verzoek afvalinzameling en contracten Documenten met betrekking tot aanbesteding en contractbeheer van afvalinzameling en verwerking met externe partijen. Dit WOO-document bevat de openbaarmaking van alle relevante stukken die betrekking hebben op de aanbestedingsprocedures, contractafspraken en evaluaties rondom de afvalinzameling en verwerking binnen de gemeente Zwolle. De openbaar gemaakte documenten omvatten beleidsnotities, aanbestedingsleidraden, interne adviezen en correspondentie met marktpartijen. Een belangrijk thema dat naar voren komt is de keuze voor een nieuwe afvalinzamelaar nadat de vorige contractperiode afliep in 2020. Uit de aanbestedingsstukken blijkt dat de gemeente een Europese openbare aanbesteding heeft uitgeschreven, waarbij nadrukkelijk is ingezet op duurzaamheid, innovatie en kostenbeheersing. Leveranciers werden gevraagd niet alleen een concurrerende prijs aan te bieden, maar ook plannen voor CO2-reductie, efficiëntere routes en burgerparticipatie in te dienen. In de interne notities is veel aandacht voor de discussie binnen de gemeenteraad over de rol van diftar (gedifferentieerde tarieven) als middel om afvalscheiding te stimuleren. Sommige fracties waren fel tegen, omdat zij vrezen dat burgers afval in de natuur of ondergrondse containers dumpen. Andere partijen zagen diftar juist als effectief instrument om restafval terug te dringen. De stukken bevatten tevens correspondentie met de winnende partij, waarin afspraken zijn vastgelegd over de frequentie van inzameling, de inzet van elektrische inzamelwagens en de mogelijkheid om pilots uit te voeren met nieuwe technieken, zoals ondergrondse sensoren in containers. In een memo van 8 oktober 2020 wordt uitgelegd hoe de gemeente afspraken heeft gemaakt om periodiek te evalueren en tussentijds bij te sturen indien nodig. Daarnaast zijn er rapportages over klachtenafhandeling toegevoegd. Uit de gegevens blijkt dat er in de eerste maanden na de nieuwe contractstart een toename was van klachten over niet geleegde containers, vooral in buitenwijken. De inzamelaar heeft daarop extra wagens ingezet en een digitaal meldsysteem geopend dat realtime klachten doorstuurt naar de centrale. Ook bevat'], 'id': 'f88c61ad-081c-4493-861e-8e55108fe4d8', '_version_': 1842888696023482368}\n",
      "{'vector_id': ['3:f0806afd:1'], 'doc_id': '3', 'version': 'f0806afd', 'municipality': ['Gemeente Zwolle'], 'date': ['2021-06-19T00:00:00Z'], 'title': ['WOO-verzoek afvalinzameling en contracten'], 'chunk_id': '2', 'text': ['van klachten over niet geleegde containers, vooral in buitenwijken. De inzamelaar heeft daarop extra wagens ingezet en een digitaal meldsysteem geopend dat realtime klachten doorstuurt naar de centrale. Ook bevat dit WOO-dossier stukken over de verwerking van afval. Zwolle streeft ernaar om restafval zoveel mogelijk te scheiden en herbruikbare grondstoffen terug te winnen. De contractstukken laten zien dat er afspraken zijn gemaakt met een verwerkingsbedrijf om organisch afval te vergisten en daarmee biogas te produceren. De openbaarmaking toont dat de gemeente Zwolle worstelt met de balans tussen kosten, milieudoelstellingen en tevredenheid van bewoners. De documenten geven een genuanceerd beeld van de keuzes die zijn gemaakt en de effecten die die keuzes hebben gehad op de afvalketen in de stad.'], 'id': 'b8053e6b-96e3-4988-80ff-3c10f99a7b12', '_version_': 1842888696026628096}\n",
      "{'vector_id': ['4:772abe00:0'], 'doc_id': '4', 'version': '772abe00', 'municipality': ['Gemeente Groningen'], 'date': ['2023-01-25T00:00:00Z'], 'title': ['WOO-besluit energietransitie projecten'], 'chunk_id': '1', 'text': ['WOO-besluit energietransitie projecten Openbaarmaking van beleidsnota’s, subsidies en samenwerkingsafspraken in het kader van verduurzaming en aardgasvrije wijken. Dit document bevat de openbaarmaking van beleidsplannen, subsidieaanvragen, verslagen van bewonersbijeenkomsten en correspondentie met externe partners over de energietransitie in Groningen. De nadruk ligt op de plannen voor het aardgasvrij maken van wijken en de inzet van duurzame energiebronnen. De openbaar gemaakte beleidsnota’s beschrijven hoe Groningen als stad voorop wil lopen in de energietransitie. De gemeenteraad stelde in 2020 het doel vast dat in 2035 alle woningen van het aardgas af moeten zijn. Daarvoor zijn diverse wijken geselecteerd als proeftuin. Uit de stukken blijkt dat Paddepoel en Helpman de eerste gebieden zijn waarin grootschalige aanpassingen plaatsvinden. Een groot deel van de openbaarmaking gaat over subsidies en financiering. De gemeente heeft Europese en landelijke middelen aangewend om bewoners te ondersteunen bij de overstap naar warmtepompen, isolatie en zonnepanelen. Uit interne adviezen blijkt dat er zorgen bestaan over de betaalbaarheid voor lagere inkomens. Daarom zijn speciale regelingen opgesteld die extra bijdragen voor huishoudens met een laag inkomen. In de rapportages wordt uitgebreid verslag gedaan van de bewonersparticipatie. Er zijn informatieavonden georganiseerd en klankbordgroepen opgericht. Uit de verslagen blijkt dat bewoners vaak vragen hadden over de betrouwbaarheid van warmtenetten en de kosten op lange termijn. De gemeente heeft daarop toegezegd dat er heldere contractvoorwaarden komen en dat er een onafhankelijke toetsing plaatsvindt van de tarieven. Verder bevat het dossier correspondentie met energiebedrijven en woningcorporaties. De samenwerking met woningcorporaties is cruciaal, omdat zij verantwoordelijk zijn voor een groot deel van de woningen in de stad. Uit de documenten blijkt dat er afspraken zijn gemaakt over het gefaseerd aansluiten van sociale huurwoningen op warmtenetten. De openbaar gemaakte stukken bevatten ook rapporten van externe adviesbureaus die technische haalbaarheidsstudies uitvoerden. Zij onderzochten de capaciteit van het elektriciteitsnet, de mogelijkheden voor'], 'id': '797a6649-1623-4879-8bf9-0f4840d4bf70', '_version_': 1842888696028725248}\n",
      "{'vector_id': ['4:772abe00:1'], 'doc_id': '4', 'version': '772abe00', 'municipality': ['Gemeente Groningen'], 'date': ['2023-01-25T00:00:00Z'], 'title': ['WOO-besluit energietransitie projecten'], 'chunk_id': '2', 'text': ['aansluiten van sociale huurwoningen op warmtenetten. De openbaar gemaakte stukken bevatten ook rapporten van externe adviesbureaus die technische haalbaarheidsstudies uitvoerden. Zij onderzochten de capaciteit van het elektriciteitsnet, de mogelijkheden voor aquathermie en de potentie van geothermie. Deze rapporten tonen dat er forse investeringen nodig zijn in de netinfrastructuur. De documenten bieden daarmee een volledig beeld van de uitdagingen en kansen van de energietransitie in Groningen. Het gaat niet alleen om technische en financiële aspecten, maar ook om draagvlak, rechtvaardigheid en samenwerking.'], 'id': 'fe47ab1c-0179-4ec4-b080-ab26b4ed0177', '_version_': 1842888696036065280}\n",
      "{'vector_id': ['5:c66aa7e1:0'], 'doc_id': '5', 'version': 'c66aa7e1', 'municipality': ['Gemeente Utrecht'], 'date': ['2022-09-14T00:00:00Z'], 'title': ['WOO-documentatie rond horeca-vergunningen'], 'chunk_id': '1', 'text': ['WOO-documentatie rond horeca-vergunningen Besluiten en interne adviezen over de afgifte en intrekking van horeca-vergunningen in het centrumgebied. In dit openbaar gemaakte WOO-document zijn beleidsnota’s, vergunningaanvragen, bezwaarprocedures en interne adviezen opgenomen die betrekking hebben op de afgifte en intrekking van horeca-vergunningen in de binnenstad van Utrecht. De stukken beslaan de periode 2019–2022 en geven inzicht in de manier waarop de gemeente omgaat met de balans tussen levendigheid en leefbaarheid. Een belangrijk onderwerp in de stukken is de sterke toename van horeca in het centrum, vooral rondom de Oudegracht. Uit de adviezen blijkt dat de gemeente enerzijds de economische dynamiek waardeert, maar anderzijds bezorgd is over geluidsoverlast, drukte en de veiligheid op straat. Dit leidde tot strengere eisen bij het verlenen van nieuwe vergunningen, zoals geluidsisolatie en verplichte sluitingstijden. De openbaar gemaakte documenten laten zien dat er meerdere keren vergunningen zijn ingetrokken wegens overtredingen, waaronder het overschrijden van geluidsnormen en het toelaten van te veel bezoekers. In de notities staat dat de gemeente handhavingscapaciteit heeft uitgebreid om beter toezicht te houden. Daarnaast bevatten de stukken correspondentie met bewonersgroepen, die vaak bezwaar maakten tegen nieuwe horecazaken. Uit de verslaglegging blijkt dat bewoners vrezen dat de leefbaarheid van hun wijk achteruitgaat. Tegelijkertijd wijzen ondernemers erop dat horeca belangrijk is voor de aantrekkingskracht van de stad. Het dossier bevat ook juridische adviezen waarin wordt benadrukt dat de gemeente zorgvuldig moet omgaan met intrekkingen, omdat ondernemers grote financiële belangen hebben. In enkele gevallen zijn zaken aan de rechter voorgelegd; de uitspraken daarvan zijn integraal opgenomen. De openbaarmaking laat duidelijk zien hoe complex het speelveld is waarin de gemeente Utrecht moet opereren: economische belangen, toerisme, veiligheid en leefbaarheid komen allemaal samen in de besluitvorming rondom horeca-vergunningen.'], 'id': '215e4941-0999-49ea-87e0-f6dfbad83b6d', '_version_': 1842888696039211008}\n",
      "{'vector_id': ['5:c66aa7e1:1'], 'doc_id': '5', 'version': 'c66aa7e1', 'municipality': ['Gemeente Utrecht'], 'date': ['2022-09-14T00:00:00Z'], 'title': ['WOO-documentatie rond horeca-vergunningen'], 'chunk_id': '2', 'text': ['leefbaarheid komen allemaal samen in de besluitvorming rondom horeca-vergunningen.'], 'id': 'cf2fc9b8-b14d-4b7d-b4e9-82888dfa3a6c', '_version_': 1842888696042356736}\n"
     ]
    }
   ],
   "source": [
    "all_data = solr_rag.search(q=\"*:*\")\n",
    "print(all_data)\n",
    "for d in all_data:\n",
    "    print(d)"
   ]
  },
  {
   "cell_type": "code",
   "execution_count": 27,
   "id": "8403f12f",
   "metadata": {},
   "outputs": [
    {
     "name": "stderr",
     "output_type": "stream",
     "text": [
      "INFO:sentence_transformers.SentenceTransformer:Load pretrained SentenceTransformer: intfloat/multilingual-e5-small\n",
      "Batches: 100%|██████████| 1/1 [00:00<00:00, 36.67it/s]\n",
      "INFO:pysolr:Finished 'https://solr.commonground.nu/solr/chunks/select/' (post) with body 'q=%7B%21kn' in 0.064 seconds, with status 200\n"
     ]
    }
   ],
   "source": [
    "query = \"Wat zegt het over verkeersveiligheid op de Vestdijk?\"\n",
    "results = search_solr(query, solr_rag)"
   ]
  },
  {
   "cell_type": "code",
   "execution_count": 28,
   "id": "e6ac2d37",
   "metadata": {},
   "outputs": [
    {
     "name": "stdout",
     "output_type": "stream",
     "text": [
      "0.9315195 ['en Vervoer, waarin wordt gewezen op de noodzaak om maatregelen gefaseerd door te voeren. Ook zijn er rapportages van externe adviesbureaus opgenomen, die met verkeersmodellen inzicht geven in de effecten op doorstroming en luchtkwaliteit. Uit deze rapportages blijkt dat de maatregelen naar verwachting leiden tot een afname van 25% van de autobewegingen en een meetbare verbetering van de luchtkwaliteit. De openbaarmaking omvat ook correspondentie met de provincie Noord-Brabant en Rijkswaterstaat, aangezien de herinrichting invloed heeft op verkeersstromen in de bredere regio. De documenten laten zien dat er intensief is afgestemd om knelpunten te voorkomen en om de plannen in lijn te brengen met provinciale mobiliteitsdoelen. Samenvattend bieden de openbaar gemaakte documenten een gedetailleerd beeld van de complexe afwegingen rondom verkeersveiligheid, leefbaarheid en economische belangen. Het plan voor de Vestdijk geldt inmiddels als voorbeeldproject binnen Eindhoven en vormt de basis voor vergelijkbare ingrepen in andere stadsdelen. De stukken beslaan meer dan 800 woorden en geven zowel beleidsmatige, technische als maatschappelijke context bij de genomen besluiten.']\n",
      "0.9310243 ['WOO-besluit over verkeersveiligheidsplan Openbaarmaking van interne notities en rapportages over het herinrichtingsplan van de Vestdijk ter bevordering van verkeersveiligheid. Het onderhavige document betreft de openbaarmaking van beleidsstukken, onderzoeksrapporten en adviesnota’s die zijn opgesteld in het kader van de herinrichting van de Vestdijk in Eindhoven. Deze herinrichting is onderdeel van een breder verkeersveiligheidsplan dat als doel heeft de doorstroming te verbeteren, de luchtkwaliteit te verhogen en de veiligheid van kwetsbare verkeersdeelnemers, zoals fietsers en voetgangers, te waarborgen. De achtergrond van dit dossier ligt in jarenlange klachten van bewoners en ondernemers over de drukte en luchtvervuiling op de Vestdijk. Uit diverse metingen, die zijn toegevoegd aan dit WOO-dossier, blijkt dat de concentratie fijnstof en stikstofdioxide op meerdere meetpunten boven de Europese normen uitkwam. Daarnaast registreerde de politie een bovengemiddeld aantal verkeersongevallen in dit gebied, waarvan een aanzienlijk deel met fietsers. De openbaar gemaakte stukken bevatten onder meer verslagen van raadscommissies waarin verschillende scenario’s voor herinrichting werden besproken. Eén scenario betrof het volledig afsluiten van de Vestdijk voor doorgaand autoverkeer, terwijl een ander scenario de invoering van een eenrichtingssituatie en bredere fietspaden omvatte. Uiteindelijk koos de gemeenteraad voor een combinatie van maatregelen, waaronder een knip voor doorgaand verkeer, de aanleg van extra groenvoorzieningen en de verbreding van trottoirs en fietsstroken. Naast de beleidsmatige stukken zijn ook de resultaten van burgerparticipatie toegevoegd. Uit de verslaglegging blijkt dat er vijf bewonersavonden zijn georganiseerd en dat honderden reacties via een online platform zijn ontvangen. Veel inwoners spraken hun steun uit voor de maatregelen, al waren er ook zorgen over bereikbaarheid voor auto’s en bevoorrading van winkels. Verder bevat dit dossier interne adviezen van de afdeling Verkeer en Vervoer, waarin wordt gewezen op de noodzaak om maatregelen gefaseerd door te voeren. Ook zijn er rapportages van externe adviesbureaus opgenomen, die met verkeersmodellen inzicht geven in de effecten']\n",
      "0.90279204 ['WOO-verzoek luchtkwaliteit en meetgegevens Rapportages en interne memo’s met betrekking tot luchtkwaliteitsmetingen in de regio Rijnmond. Dit document bevat de openbaarmaking van meetgegevens, onderzoeksrapporten en interne adviezen die betrekking hebben op luchtkwaliteit in Rotterdam en de bredere regio Rijnmond. Het gaat om de periode 2019–2022. De openbaar gemaakte rapportages bevatten uitgebreide meetgegevens van fijnstof (PM10 en PM2.5), stikstofdioxide en ozon. Uit de gegevens blijkt dat op verschillende locaties, met name in de buurt van de ring en de haven, de normen regelmatig werden overschreden. Dit leidde tot bezorgdheid bij bewoners en maatschappelijke organisaties. De stukken bevatten ook interne memo’s waarin ambtenaren wijzen op de noodzaak van strengere maatregelen. Voorbeelden zijn de invoering van een zero-emissiezone voor vrachtwagens in 2025 en het stimuleren van elektrische mobiliteit. Uit correspondentie blijkt dat de gemeente intensief samenwerkt met de provincie en het Rijk om aanvullende maatregelen mogelijk te maken. Daarnaast zijn er verslagen opgenomen van gesprekken met bewonersgroepen en milieuorganisaties. Zij dringen aan op sneller en krachtiger ingrijpen. De gemeente heeft toegezegd extra meetpunten te plaatsen en de resultaten publiek toegankelijk te maken via een online dashboard. De openbaarmaking toont duidelijk hoe de gemeente Rotterdam de problematiek erkent en tracht op te lossen, maar ook hoe groot de uitdagingen zijn gezien de omvang van de haven en het verkeer.']\n",
      "0.8953589 ['WOO-verzoek inzake opvanglocaties AZC’s Verzoek tot openbaarmaking van documenten over besluitvorming rondom uitbreiding van asielzoekerscentra en tijdelijke opvangplaatsen. Dit document bevat de volledige openbaarmaking van beleidsstukken, vergadernotulen en interne adviezen die betrekking hebben op de besluitvorming rondom de uitbreiding van asielzoekerscentra (AZC’s) binnen de gemeente Wageningen. Het doel van deze openbaarmaking is om transparantie te bieden over de afwegingen die hebben geleid tot de keuze voor specifieke locaties en de communicatie met bewoners, maatschappelijke organisaties en het COA. In de voorbereidende fase is uitvoerig onderzocht welke locaties geschikt zouden kunnen zijn voor de tijdelijke en permanente opvang van asielzoekers. Hierbij zijn criteria gehanteerd zoals bereikbaarheid met openbaar vervoer, beschikbaarheid van voorzieningen in de directe omgeving en de mate waarin de inpassing in de wijk haalbaar is. Uit de stukken blijkt dat er binnen de gemeenteraad verschillende meningen bestonden over de balans tussen draagvlak en urgentie. Sommige fracties benadrukten dat de gemeente een landelijke verantwoordelijkheid heeft, terwijl andere partijen grote zorgen uitten over de druk op bestaande voorzieningen, zoals scholen en huisartsen. De documenten tonen ook de uitgebreide correspondentie met het COA, waarin onder meer afspraken zijn gemaakt over de maximale capaciteit per locatie, de duur van de opvang en de financiering van bijkomende faciliteiten. In een notitie van 14 februari 2023 wordt beschreven hoe de gemeente samen met het COA een plan opstelt voor buurtcommunicatie en participatie. Er worden bewonersavonden georganiseerd en een informatiepunt ingericht om vragen te beantwoorden en zorgen weg te nemen. Verder bevat dit dossier juridische adviezen met betrekking tot bestemmingsplanprocedures. In sommige gevallen moest de gemeente een versnelde procedure doorlopen om tijdig opvangcapaciteit beschikbaar te stellen. In een memo van de afdeling Ruimtelijke Ordening wordt gewezen op de spanning tussen snelheid en zorgvuldigheid: enerzijds moet de opvang snel worden gerealiseerd vanwege de hoge instroom, anderzijds moeten']\n",
      "0.89382523 ['WOO-verzoek woningbouwproject ‘De Horizon’ Openbaarmaking van correspondentie met projectontwikkelaars en provinciale instanties over nieuwbouwlocatie ‘De Horizon’. Dit document bevat de openbaarmaking van stukken die betrekking hebben op de ontwikkeling van de nieuwbouwwijk ‘De Horizon’ in Almere. De openbaarmaking omvat correspondentie met projectontwikkelaars, beleidsnotities van de gemeente, adviezen van de provincie Flevoland en verslagen van bewonersbijeenkomsten. De kern van het dossier betreft de vraag hoe Almere haar woningbouwopgave kan realiseren. Uit de beleidsstukken blijkt dat er in Almere een grote druk ligt om duizenden nieuwe woningen te bouwen, met name voor gezinnen en starters. ‘De Horizon’ is een project waarin ruim 3.000 woningen gepland zijn, met een mix van sociale huur, middeldure huur en koopwoningen. Uit de openbaar gemaakte correspondentie blijkt dat er intensief overleg is geweest tussen gemeente en ontwikkelaars over de verdeling van woningtypen, de aanleg van voorzieningen en de infrastructuur. Een belangrijk discussiepunt betrof de vraag of er voldoende scholen en sportfaciliteiten zouden worden gerealiseerd. Uit een notitie van 15 mei 2021 blijkt dat de gemeente eisen stelde aan ontwikkelaars om tegelijkertijd met de woningen ook voorzieningen op te leveren. De stukken bevatten verder adviezen van de provincie over de aansluiting op het regionale mobiliteitsnetwerk. De provincie wees op knelpunten in de bereikbaarheid en adviseerde investeringen in bus- en treinverbindingen. In de documenten wordt beschreven dat de gemeente samen met het Rijk middelen probeert te verkrijgen uit het Mobiliteitsfonds. Ook zijn er verslagen van bewonersavonden opgenomen, waarin toekomstige bewoners hun zorgen en wensen kenbaar maakten. Veel vragen gingen over duurzaamheid, zoals de toepassing van zonnepanelen, warmtepompen en groene daken. De ontwikkelaars gaven aan dat duurzaamheid een integraal onderdeel is van het plan. De openbaarmaking biedt een compleet beeld van de uitdagingen rondom grootschalige woningbouwprojecten in een groeigemeente als Almere.']\n"
     ]
    }
   ],
   "source": [
    "for r in results:\n",
    "    print(r[\"score\"], r[\"text\"][:140])"
   ]
  },
  {
   "cell_type": "code",
   "execution_count": 29,
   "id": "39927e93",
   "metadata": {},
   "outputs": [
    {
     "name": "stdout",
     "output_type": "stream",
     "text": [
      "{'doc_id': '2', 'municipality': ['Gemeente Eindhoven'], 'date': ['2022-11-03T00:00:00Z'], 'title': ['WOO-besluit over verkeersveiligheidsplan'], 'chunk_id': '2', 'text': ['en Vervoer, waarin wordt gewezen op de noodzaak om maatregelen gefaseerd door te voeren. Ook zijn er rapportages van externe adviesbureaus opgenomen, die met verkeersmodellen inzicht geven in de effecten op doorstroming en luchtkwaliteit. Uit deze rapportages blijkt dat de maatregelen naar verwachting leiden tot een afname van 25% van de autobewegingen en een meetbare verbetering van de luchtkwaliteit. De openbaarmaking omvat ook correspondentie met de provincie Noord-Brabant en Rijkswaterstaat, aangezien de herinrichting invloed heeft op verkeersstromen in de bredere regio. De documenten laten zien dat er intensief is afgestemd om knelpunten te voorkomen en om de plannen in lijn te brengen met provinciale mobiliteitsdoelen. Samenvattend bieden de openbaar gemaakte documenten een gedetailleerd beeld van de complexe afwegingen rondom verkeersveiligheid, leefbaarheid en economische belangen. Het plan voor de Vestdijk geldt inmiddels als voorbeeldproject binnen Eindhoven en vormt de basis voor vergelijkbare ingrepen in andere stadsdelen. De stukken beslaan meer dan 800 woorden en geven zowel beleidsmatige, technische als maatschappelijke context bij de genomen besluiten.'], 'id': '3a6d733f-9728-4d16-9af5-1375b1d9b106', 'score': 0.9315195}\n",
      "{'doc_id': '2', 'municipality': ['Gemeente Eindhoven'], 'date': ['2022-11-03T00:00:00Z'], 'title': ['WOO-besluit over verkeersveiligheidsplan'], 'chunk_id': '1', 'text': ['WOO-besluit over verkeersveiligheidsplan Openbaarmaking van interne notities en rapportages over het herinrichtingsplan van de Vestdijk ter bevordering van verkeersveiligheid. Het onderhavige document betreft de openbaarmaking van beleidsstukken, onderzoeksrapporten en adviesnota’s die zijn opgesteld in het kader van de herinrichting van de Vestdijk in Eindhoven. Deze herinrichting is onderdeel van een breder verkeersveiligheidsplan dat als doel heeft de doorstroming te verbeteren, de luchtkwaliteit te verhogen en de veiligheid van kwetsbare verkeersdeelnemers, zoals fietsers en voetgangers, te waarborgen. De achtergrond van dit dossier ligt in jarenlange klachten van bewoners en ondernemers over de drukte en luchtvervuiling op de Vestdijk. Uit diverse metingen, die zijn toegevoegd aan dit WOO-dossier, blijkt dat de concentratie fijnstof en stikstofdioxide op meerdere meetpunten boven de Europese normen uitkwam. Daarnaast registreerde de politie een bovengemiddeld aantal verkeersongevallen in dit gebied, waarvan een aanzienlijk deel met fietsers. De openbaar gemaakte stukken bevatten onder meer verslagen van raadscommissies waarin verschillende scenario’s voor herinrichting werden besproken. Eén scenario betrof het volledig afsluiten van de Vestdijk voor doorgaand autoverkeer, terwijl een ander scenario de invoering van een eenrichtingssituatie en bredere fietspaden omvatte. Uiteindelijk koos de gemeenteraad voor een combinatie van maatregelen, waaronder een knip voor doorgaand verkeer, de aanleg van extra groenvoorzieningen en de verbreding van trottoirs en fietsstroken. Naast de beleidsmatige stukken zijn ook de resultaten van burgerparticipatie toegevoegd. Uit de verslaglegging blijkt dat er vijf bewonersavonden zijn georganiseerd en dat honderden reacties via een online platform zijn ontvangen. Veel inwoners spraken hun steun uit voor de maatregelen, al waren er ook zorgen over bereikbaarheid voor auto’s en bevoorrading van winkels. Verder bevat dit dossier interne adviezen van de afdeling Verkeer en Vervoer, waarin wordt gewezen op de noodzaak om maatregelen gefaseerd door te voeren. Ook zijn er rapportages van externe adviesbureaus opgenomen, die met verkeersmodellen inzicht geven in de effecten'], 'id': '1aceb1fd-8b03-43e2-939d-b54447ce3cfc', 'score': 0.9310243}\n",
      "{'doc_id': '8', 'municipality': ['Gemeente Rotterdam'], 'date': ['2023-04-18T00:00:00Z'], 'title': ['WOO-verzoek luchtkwaliteit en meetgegevens'], 'chunk_id': '1', 'text': ['WOO-verzoek luchtkwaliteit en meetgegevens Rapportages en interne memo’s met betrekking tot luchtkwaliteitsmetingen in de regio Rijnmond. Dit document bevat de openbaarmaking van meetgegevens, onderzoeksrapporten en interne adviezen die betrekking hebben op luchtkwaliteit in Rotterdam en de bredere regio Rijnmond. Het gaat om de periode 2019–2022. De openbaar gemaakte rapportages bevatten uitgebreide meetgegevens van fijnstof (PM10 en PM2.5), stikstofdioxide en ozon. Uit de gegevens blijkt dat op verschillende locaties, met name in de buurt van de ring en de haven, de normen regelmatig werden overschreden. Dit leidde tot bezorgdheid bij bewoners en maatschappelijke organisaties. De stukken bevatten ook interne memo’s waarin ambtenaren wijzen op de noodzaak van strengere maatregelen. Voorbeelden zijn de invoering van een zero-emissiezone voor vrachtwagens in 2025 en het stimuleren van elektrische mobiliteit. Uit correspondentie blijkt dat de gemeente intensief samenwerkt met de provincie en het Rijk om aanvullende maatregelen mogelijk te maken. Daarnaast zijn er verslagen opgenomen van gesprekken met bewonersgroepen en milieuorganisaties. Zij dringen aan op sneller en krachtiger ingrijpen. De gemeente heeft toegezegd extra meetpunten te plaatsen en de resultaten publiek toegankelijk te maken via een online dashboard. De openbaarmaking toont duidelijk hoe de gemeente Rotterdam de problematiek erkent en tracht op te lossen, maar ook hoe groot de uitdagingen zijn gezien de omvang van de haven en het verkeer.'], 'id': 'a3f42758-4594-43cd-8907-7daa9c303970', 'score': 0.90279204}\n",
      "{'doc_id': '1', 'municipality': ['Gemeente Wageningen'], 'date': ['2023-05-12T00:00:00Z'], 'title': ['WOO-verzoek inzake opvanglocaties AZC’s'], 'chunk_id': '1', 'text': ['WOO-verzoek inzake opvanglocaties AZC’s Verzoek tot openbaarmaking van documenten over besluitvorming rondom uitbreiding van asielzoekerscentra en tijdelijke opvangplaatsen. Dit document bevat de volledige openbaarmaking van beleidsstukken, vergadernotulen en interne adviezen die betrekking hebben op de besluitvorming rondom de uitbreiding van asielzoekerscentra (AZC’s) binnen de gemeente Wageningen. Het doel van deze openbaarmaking is om transparantie te bieden over de afwegingen die hebben geleid tot de keuze voor specifieke locaties en de communicatie met bewoners, maatschappelijke organisaties en het COA. In de voorbereidende fase is uitvoerig onderzocht welke locaties geschikt zouden kunnen zijn voor de tijdelijke en permanente opvang van asielzoekers. Hierbij zijn criteria gehanteerd zoals bereikbaarheid met openbaar vervoer, beschikbaarheid van voorzieningen in de directe omgeving en de mate waarin de inpassing in de wijk haalbaar is. Uit de stukken blijkt dat er binnen de gemeenteraad verschillende meningen bestonden over de balans tussen draagvlak en urgentie. Sommige fracties benadrukten dat de gemeente een landelijke verantwoordelijkheid heeft, terwijl andere partijen grote zorgen uitten over de druk op bestaande voorzieningen, zoals scholen en huisartsen. De documenten tonen ook de uitgebreide correspondentie met het COA, waarin onder meer afspraken zijn gemaakt over de maximale capaciteit per locatie, de duur van de opvang en de financiering van bijkomende faciliteiten. In een notitie van 14 februari 2023 wordt beschreven hoe de gemeente samen met het COA een plan opstelt voor buurtcommunicatie en participatie. Er worden bewonersavonden georganiseerd en een informatiepunt ingericht om vragen te beantwoorden en zorgen weg te nemen. Verder bevat dit dossier juridische adviezen met betrekking tot bestemmingsplanprocedures. In sommige gevallen moest de gemeente een versnelde procedure doorlopen om tijdig opvangcapaciteit beschikbaar te stellen. In een memo van de afdeling Ruimtelijke Ordening wordt gewezen op de spanning tussen snelheid en zorgvuldigheid: enerzijds moet de opvang snel worden gerealiseerd vanwege de hoge instroom, anderzijds moeten'], 'id': 'e6ae6d3c-95f9-428b-ab31-762d628eddaa', 'score': 0.8953589}\n",
      "{'doc_id': '6', 'municipality': ['Gemeente Almere'], 'date': ['2021-12-07T00:00:00Z'], 'title': ['WOO-verzoek woningbouwproject ‘De Horizon’'], 'chunk_id': '1', 'text': ['WOO-verzoek woningbouwproject ‘De Horizon’ Openbaarmaking van correspondentie met projectontwikkelaars en provinciale instanties over nieuwbouwlocatie ‘De Horizon’. Dit document bevat de openbaarmaking van stukken die betrekking hebben op de ontwikkeling van de nieuwbouwwijk ‘De Horizon’ in Almere. De openbaarmaking omvat correspondentie met projectontwikkelaars, beleidsnotities van de gemeente, adviezen van de provincie Flevoland en verslagen van bewonersbijeenkomsten. De kern van het dossier betreft de vraag hoe Almere haar woningbouwopgave kan realiseren. Uit de beleidsstukken blijkt dat er in Almere een grote druk ligt om duizenden nieuwe woningen te bouwen, met name voor gezinnen en starters. ‘De Horizon’ is een project waarin ruim 3.000 woningen gepland zijn, met een mix van sociale huur, middeldure huur en koopwoningen. Uit de openbaar gemaakte correspondentie blijkt dat er intensief overleg is geweest tussen gemeente en ontwikkelaars over de verdeling van woningtypen, de aanleg van voorzieningen en de infrastructuur. Een belangrijk discussiepunt betrof de vraag of er voldoende scholen en sportfaciliteiten zouden worden gerealiseerd. Uit een notitie van 15 mei 2021 blijkt dat de gemeente eisen stelde aan ontwikkelaars om tegelijkertijd met de woningen ook voorzieningen op te leveren. De stukken bevatten verder adviezen van de provincie over de aansluiting op het regionale mobiliteitsnetwerk. De provincie wees op knelpunten in de bereikbaarheid en adviseerde investeringen in bus- en treinverbindingen. In de documenten wordt beschreven dat de gemeente samen met het Rijk middelen probeert te verkrijgen uit het Mobiliteitsfonds. Ook zijn er verslagen van bewonersavonden opgenomen, waarin toekomstige bewoners hun zorgen en wensen kenbaar maakten. Veel vragen gingen over duurzaamheid, zoals de toepassing van zonnepanelen, warmtepompen en groene daken. De ontwikkelaars gaven aan dat duurzaamheid een integraal onderdeel is van het plan. De openbaarmaking biedt een compleet beeld van de uitdagingen rondom grootschalige woningbouwprojecten in een groeigemeente als Almere.'], 'id': 'f0ca52f7-e322-4406-bb05-22bbd539c710', 'score': 0.89382523}\n"
     ]
    }
   ],
   "source": [
    "for r in results:\n",
    "    print(r)"
   ]
  },
  {
   "cell_type": "code",
   "execution_count": 30,
   "id": "bf72d009",
   "metadata": {},
   "outputs": [
    {
     "name": "stdout",
     "output_type": "stream",
     "text": [
      "loading llm message\n",
      "llm message: Doc 1: Doc id: 3a6d733f-9728-4d16-9af5-1375b1d9b106; Title: ['WOO-besluit over verkeersveiligheidsplan']\n",
      "Date: ['2022-11-03T00:00:00Z']\n",
      "Document: ['en Vervoer, waarin wordt gewezen op de noodzaak om maatregelen gefaseerd door te voeren. Ook zijn er rapportages van externe adviesbureaus opgenomen, die met verkeersmodellen inzicht geven in de effecten op doorstroming en luchtkwaliteit. Uit deze rapportages blijkt dat de maatregelen naar verwachting leiden tot een afname van 25% van de autobewegingen en een meetbare verbetering van de luchtkwaliteit. De openbaarmaking omvat ook correspondentie met de provincie Noord-Brabant en Rijkswaterstaat, aangezien de herinrichting invloed heeft op verkeersstromen in de bredere regio. De documenten laten zien dat er intensief is afgestemd om knelpunten te voorkomen en om de plannen in lijn te brengen met provinciale mobiliteitsdoelen. Samenvattend bieden de openbaar gemaakte documenten een gedetailleerd beeld van de complexe afwegingen rondom verkeersveiligheid, leefbaarheid en economische belangen. Het plan voor de Vestdijk geldt inmiddels als voorbeeldproject binnen Eindhoven en vormt de basis voor vergelijkbare ingrepen in andere stadsdelen. De stukken beslaan meer dan 800 woorden en geven zowel beleidsmatige, technische als maatschappelijke context bij de genomen besluiten.']\n",
      "\n",
      "Doc 2: Doc id: 1aceb1fd-8b03-43e2-939d-b54447ce3cfc; Title: ['WOO-besluit over verkeersveiligheidsplan']\n",
      "Date: ['2022-11-03T00:00:00Z']\n",
      "Document: ['WOO-besluit over verkeersveiligheidsplan Openbaarmaking van interne notities en rapportages over het herinrichtingsplan van de Vestdijk ter bevordering van verkeersveiligheid. Het onderhavige document betreft de openbaarmaking van beleidsstukken, onderzoeksrapporten en adviesnota’s die zijn opgesteld in het kader van de herinrichting van de Vestdijk in Eindhoven. Deze herinrichting is onderdeel van een breder verkeersveiligheidsplan dat als doel heeft de doorstroming te verbeteren, de luchtkwaliteit te verhogen en de veiligheid van kwetsbare verkeersdeelnemers, zoals fietsers en voetgangers, te waarborgen. De achtergrond van dit dossier ligt in jarenlange klachten van bewoners en ondernemers over de drukte en luchtvervuiling op de Vestdijk. Uit diverse metingen, die zijn toegevoegd aan dit WOO-dossier, blijkt dat de concentratie fijnstof en stikstofdioxide op meerdere meetpunten boven de Europese normen uitkwam. Daarnaast registreerde de politie een bovengemiddeld aantal verkeersongevallen in dit gebied, waarvan een aanzienlijk deel met fietsers. De openbaar gemaakte stukken bevatten onder meer verslagen van raadscommissies waarin verschillende scenario’s voor herinrichting werden besproken. Eén scenario betrof het volledig afsluiten van de Vestdijk voor doorgaand autoverkeer, terwijl een ander scenario de invoering van een eenrichtingssituatie en bredere fietspaden omvatte. Uiteindelijk koos de gemeenteraad voor een combinatie van maatregelen, waaronder een knip voor doorgaand verkeer, de aanleg van extra groenvoorzieningen en de verbreding van trottoirs en fietsstroken. Naast de beleidsmatige stukken zijn ook de resultaten van burgerparticipatie toegevoegd. Uit de verslaglegging blijkt dat er vijf bewonersavonden zijn georganiseerd en dat honderden reacties via een online platform zijn ontvangen. Veel inwoners spraken hun steun uit voor de maatregelen, al waren er ook zorgen over bereikbaarheid voor auto’s en bevoorrading van winkels. Verder bevat dit dossier interne adviezen van de afdeling Verkeer en Vervoer, waarin wordt gewezen op de noodzaak om maatregelen gefaseerd door te voeren. Ook zijn er rapportages van externe adviesbureaus opgenomen, die met verkeersmodellen inzicht geven in de effecten']\n",
      "\n",
      "Doc 3: Doc id: a3f42758-4594-43cd-8907-7daa9c303970; Title: ['WOO-verzoek luchtkwaliteit en meetgegevens']\n",
      "Date: ['2023-04-18T00:00:00Z']\n",
      "Document: ['WOO-verzoek luchtkwaliteit en meetgegevens Rapportages en interne memo’s met betrekking tot luchtkwaliteitsmetingen in de regio Rijnmond. Dit document bevat de openbaarmaking van meetgegevens, onderzoeksrapporten en interne adviezen die betrekking hebben op luchtkwaliteit in Rotterdam en de bredere regio Rijnmond. Het gaat om de periode 2019–2022. De openbaar gemaakte rapportages bevatten uitgebreide meetgegevens van fijnstof (PM10 en PM2.5), stikstofdioxide en ozon. Uit de gegevens blijkt dat op verschillende locaties, met name in de buurt van de ring en de haven, de normen regelmatig werden overschreden. Dit leidde tot bezorgdheid bij bewoners en maatschappelijke organisaties. De stukken bevatten ook interne memo’s waarin ambtenaren wijzen op de noodzaak van strengere maatregelen. Voorbeelden zijn de invoering van een zero-emissiezone voor vrachtwagens in 2025 en het stimuleren van elektrische mobiliteit. Uit correspondentie blijkt dat de gemeente intensief samenwerkt met de provincie en het Rijk om aanvullende maatregelen mogelijk te maken. Daarnaast zijn er verslagen opgenomen van gesprekken met bewonersgroepen en milieuorganisaties. Zij dringen aan op sneller en krachtiger ingrijpen. De gemeente heeft toegezegd extra meetpunten te plaatsen en de resultaten publiek toegankelijk te maken via een online dashboard. De openbaarmaking toont duidelijk hoe de gemeente Rotterdam de problematiek erkent en tracht op te lossen, maar ook hoe groot de uitdagingen zijn gezien de omvang van de haven en het verkeer.']\n",
      "\n",
      "Doc 4: Doc id: e6ae6d3c-95f9-428b-ab31-762d628eddaa; Title: ['WOO-verzoek inzake opvanglocaties AZC’s']\n",
      "Date: ['2023-05-12T00:00:00Z']\n",
      "Document: ['WOO-verzoek inzake opvanglocaties AZC’s Verzoek tot openbaarmaking van documenten over besluitvorming rondom uitbreiding van asielzoekerscentra en tijdelijke opvangplaatsen. Dit document bevat de volledige openbaarmaking van beleidsstukken, vergadernotulen en interne adviezen die betrekking hebben op de besluitvorming rondom de uitbreiding van asielzoekerscentra (AZC’s) binnen de gemeente Wageningen. Het doel van deze openbaarmaking is om transparantie te bieden over de afwegingen die hebben geleid tot de keuze voor specifieke locaties en de communicatie met bewoners, maatschappelijke organisaties en het COA. In de voorbereidende fase is uitvoerig onderzocht welke locaties geschikt zouden kunnen zijn voor de tijdelijke en permanente opvang van asielzoekers. Hierbij zijn criteria gehanteerd zoals bereikbaarheid met openbaar vervoer, beschikbaarheid van voorzieningen in de directe omgeving en de mate waarin de inpassing in de wijk haalbaar is. Uit de stukken blijkt dat er binnen de gemeenteraad verschillende meningen bestonden over de balans tussen draagvlak en urgentie. Sommige fracties benadrukten dat de gemeente een landelijke verantwoordelijkheid heeft, terwijl andere partijen grote zorgen uitten over de druk op bestaande voorzieningen, zoals scholen en huisartsen. De documenten tonen ook de uitgebreide correspondentie met het COA, waarin onder meer afspraken zijn gemaakt over de maximale capaciteit per locatie, de duur van de opvang en de financiering van bijkomende faciliteiten. In een notitie van 14 februari 2023 wordt beschreven hoe de gemeente samen met het COA een plan opstelt voor buurtcommunicatie en participatie. Er worden bewonersavonden georganiseerd en een informatiepunt ingericht om vragen te beantwoorden en zorgen weg te nemen. Verder bevat dit dossier juridische adviezen met betrekking tot bestemmingsplanprocedures. In sommige gevallen moest de gemeente een versnelde procedure doorlopen om tijdig opvangcapaciteit beschikbaar te stellen. In een memo van de afdeling Ruimtelijke Ordening wordt gewezen op de spanning tussen snelheid en zorgvuldigheid: enerzijds moet de opvang snel worden gerealiseerd vanwege de hoge instroom, anderzijds moeten']\n",
      "\n",
      "Doc 5: Doc id: f0ca52f7-e322-4406-bb05-22bbd539c710; Title: ['WOO-verzoek woningbouwproject ‘De Horizon’']\n",
      "Date: ['2021-12-07T00:00:00Z']\n",
      "Document: ['WOO-verzoek woningbouwproject ‘De Horizon’ Openbaarmaking van correspondentie met projectontwikkelaars en provinciale instanties over nieuwbouwlocatie ‘De Horizon’. Dit document bevat de openbaarmaking van stukken die betrekking hebben op de ontwikkeling van de nieuwbouwwijk ‘De Horizon’ in Almere. De openbaarmaking omvat correspondentie met projectontwikkelaars, beleidsnotities van de gemeente, adviezen van de provincie Flevoland en verslagen van bewonersbijeenkomsten. De kern van het dossier betreft de vraag hoe Almere haar woningbouwopgave kan realiseren. Uit de beleidsstukken blijkt dat er in Almere een grote druk ligt om duizenden nieuwe woningen te bouwen, met name voor gezinnen en starters. ‘De Horizon’ is een project waarin ruim 3.000 woningen gepland zijn, met een mix van sociale huur, middeldure huur en koopwoningen. Uit de openbaar gemaakte correspondentie blijkt dat er intensief overleg is geweest tussen gemeente en ontwikkelaars over de verdeling van woningtypen, de aanleg van voorzieningen en de infrastructuur. Een belangrijk discussiepunt betrof de vraag of er voldoende scholen en sportfaciliteiten zouden worden gerealiseerd. Uit een notitie van 15 mei 2021 blijkt dat de gemeente eisen stelde aan ontwikkelaars om tegelijkertijd met de woningen ook voorzieningen op te leveren. De stukken bevatten verder adviezen van de provincie over de aansluiting op het regionale mobiliteitsnetwerk. De provincie wees op knelpunten in de bereikbaarheid en adviseerde investeringen in bus- en treinverbindingen. In de documenten wordt beschreven dat de gemeente samen met het Rijk middelen probeert te verkrijgen uit het Mobiliteitsfonds. Ook zijn er verslagen van bewonersavonden opgenomen, waarin toekomstige bewoners hun zorgen en wensen kenbaar maakten. Veel vragen gingen over duurzaamheid, zoals de toepassing van zonnepanelen, warmtepompen en groene daken. De ontwikkelaars gaven aan dat duurzaamheid een integraal onderdeel is van het plan. De openbaarmaking biedt een compleet beeld van de uitdagingen rondom grootschalige woningbouwprojecten in een groeigemeente als Almere.']\n",
      "\n",
      "Question: Wat zegt het over verkeersveiligheid op de Vestdijk?\n",
      "\n",
      "getting llm response\n",
      "parsing llm response\n"
     ]
    },
    {
     "data": {
      "text/plain": [
       "{'answer': 'Het WOO-besluit over verkeersveiligheidsplan op de Vestdijk heeft als doel de doorstroming te verbeteren, de luchtkwaliteit te verhogen en de veiligheid van kwetsbare verkeersdeelnemers, zoals fietsers en voetgangers, te waarborgen. Uit metingen blijkt dat de concentratie fijnstof en stikstofdioxide op meerdere meetpunten boven de Europese normen uitkwam en dat de politie een bovengemiddeld aantal verkeersongevallen in dit gebied registreerde, waarvan een aanzienlijk deel met fietsers. De gemeenteraad koos voor een combinatie van maatregelen, waaronder een knip voor doorgaand verkeer, de aanleg van extra groenvoorzieningen en de verbreding van trottoirs en fietsstroken.',\n",
       " 'sources': [{'id': 1,\n",
       "   'title': 'WOO-besluit over verkeersveiligheidsplan',\n",
       "   'date': '2022-11-03',\n",
       "   'reason': 'verkeersveiligheid Vestdijk'},\n",
       "  {'id': 2,\n",
       "   'title': 'WOO-besluit over verkeersveiligheidsplan',\n",
       "   'date': '2022-11-03',\n",
       "   'reason': 'verkeersveiligheid Vestdijk'}]}"
      ]
     },
     "execution_count": 30,
     "metadata": {},
     "output_type": "execute_result"
    }
   ],
   "source": [
    "augmented_generation(results, query)"
   ]
  },
  {
   "cell_type": "code",
   "execution_count": null,
   "id": "2c8767db",
   "metadata": {},
   "outputs": [],
   "source": []
  }
 ],
 "metadata": {
  "kernelspec": {
   "display_name": "docusearch-py312",
   "language": "python",
   "name": "python3"
  },
  "language_info": {
   "codemirror_mode": {
    "name": "ipython",
    "version": 3
   },
   "file_extension": ".py",
   "mimetype": "text/x-python",
   "name": "python",
   "nbconvert_exporter": "python",
   "pygments_lexer": "ipython3",
   "version": "3.12.11"
  }
 },
 "nbformat": 4,
 "nbformat_minor": 5
}
