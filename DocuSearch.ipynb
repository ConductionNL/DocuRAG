{
 "cells": [
  {
   "cell_type": "code",
   "execution_count": 1,
   "id": "b235999d",
   "metadata": {},
   "outputs": [
    {
     "name": "stderr",
     "output_type": "stream",
     "text": [
      "/home/jg/anaconda3/envs/docusearch-py312/lib/python3.12/site-packages/tqdm/auto.py:21: TqdmWarning: IProgress not found. Please update jupyter and ipywidgets. See https://ipywidgets.readthedocs.io/en/stable/user_install.html\n",
      "  from .autonotebook import tqdm as notebook_tqdm\n"
     ]
    }
   ],
   "source": [
    "%load_ext autoreload\n",
    "%autoreload 2\n",
    "from RAG import retrieve_docs, augmented_generation, main"
   ]
  },
  {
   "cell_type": "code",
   "execution_count": 12,
   "id": "1c379892",
   "metadata": {},
   "outputs": [],
   "source": [
    "from IPython.display import HTML, display\n",
    "import html"
   ]
  },
  {
   "cell_type": "code",
   "execution_count": 18,
   "id": "6d922046",
   "metadata": {},
   "outputs": [],
   "source": [
    "USER_INPUT = \"Wat is er besproken over vuilnis?\""
   ]
  },
  {
   "cell_type": "code",
   "execution_count": 19,
   "id": "4b360a59",
   "metadata": {},
   "outputs": [],
   "source": [
    "DOCSET = \"woo_docs.json\""
   ]
  },
  {
   "cell_type": "code",
   "execution_count": 20,
   "id": "493cb750",
   "metadata": {},
   "outputs": [
    {
     "name": "stderr",
     "output_type": "stream",
     "text": [
      "INFO:sentence_transformers.SentenceTransformer:Load pretrained SentenceTransformer: intfloat/multilingual-e5-small\n",
      "Batches: 100%|██████████| 1/1 [00:01<00:00,  1.27s/it]\n",
      "INFO:sentence_transformers.SentenceTransformer:Load pretrained SentenceTransformer: intfloat/multilingual-e5-small\n",
      "Batches: 100%|██████████| 1/1 [00:00<00:00, 30.89it/s]\n"
     ]
    }
   ],
   "source": [
    "retrieved_docs = retrieve_docs(DOCSET, USER_INPUT, top_k=5)"
   ]
  },
  {
   "cell_type": "code",
   "execution_count": 21,
   "id": "d8431c72",
   "metadata": {},
   "outputs": [],
   "source": [
    "parsed_llm_response = augmented_generation(retrieved_docs, USER_INPUT)"
   ]
  },
  {
   "cell_type": "code",
   "execution_count": 22,
   "id": "ba62badf",
   "metadata": {},
   "outputs": [
    {
     "data": {
      "text/html": [
       "<pre style='white-space: pre-wrap; word-break: break-word'>Er is besproken dat de gemeente Zwolle worstelt met de balans tussen kosten, milieudoelstellingen en tevredenheid van bewoners bij de afvalinzameling. De gemeente heeft een nieuwe afvalinzamelaar gekozen en heeft afspraken gemaakt over de frequentie van inzameling, de inzet van elektrische inzamelwagens en de mogelijkheid om pilots uit te voeren met nieuwe technieken.</pre>"
      ],
      "text/plain": [
       "<IPython.core.display.HTML object>"
      ]
     },
     "metadata": {},
     "output_type": "display_data"
    },
    {
     "name": "stdout",
     "output_type": "stream",
     "text": [
      "[{'id': 2, 'title': 'WOO-verzoek afvalinzameling en contracten', 'date': '2021-06-19', 'reason': 'afvalinzameling en contracten'}]\n"
     ]
    }
   ],
   "source": [
    "display(HTML(f\"<pre style='white-space: pre-wrap; word-break: break-word'>{html.escape(parsed_llm_response['answer'])}</pre>\"))\n",
    "print(parsed_llm_response['sources'])"
   ]
  },
  {
   "cell_type": "code",
   "execution_count": 24,
   "id": "89599d08",
   "metadata": {},
   "outputs": [
    {
     "name": "stderr",
     "output_type": "stream",
     "text": [
      "INFO:sentence_transformers.SentenceTransformer:Load pretrained SentenceTransformer: intfloat/multilingual-e5-small\n",
      "Batches: 100%|██████████| 1/1 [00:01<00:00,  1.60s/it]\n",
      "INFO:sentence_transformers.SentenceTransformer:Load pretrained SentenceTransformer: intfloat/multilingual-e5-small\n",
      "Batches: 100%|██████████| 1/1 [00:00<00:00, 27.80it/s]\n"
     ]
    },
    {
     "data": {
      "text/plain": [
       "{'answer': 'Er is gesproken over de opvang van asielzoekers in de gemeente Wageningen. De gemeente heeft onderzocht welke locaties geschikt zouden kunnen zijn voor de tijdelijke en permanente opvang van asielzoekers, waarbij criteria zoals bereikbaarheid met openbaar vervoer en beschikbaarheid van voorzieningen in de directe omgeving zijn gehanteerd. Er zijn afspraken gemaakt met het COA over de maximale capaciteit per locatie, de duur van de opvang en de financiering van bijkomende faciliteiten.',\n",
       " 'sources': [{'id': 1,\n",
       "   'title': 'WOO-verzoek inzake opvanglocaties AZC’s',\n",
       "   'date': '2023-05-12',\n",
       "   'reason': 'opvang asielzoekers'}]}"
      ]
     },
     "execution_count": 24,
     "metadata": {},
     "output_type": "execute_result"
    }
   ],
   "source": [
    "main(DOCSET, \"Wat is er gezegd over azielzoekers?\")"
   ]
  },
  {
   "cell_type": "code",
   "execution_count": 2,
   "id": "4127cd01",
   "metadata": {},
   "outputs": [],
   "source": [
    "import pysolr"
   ]
  },
  {
   "cell_type": "code",
   "execution_count": 3,
   "id": "2bfce762",
   "metadata": {},
   "outputs": [],
   "source": [
    "solr = pysolr.Solr('http://localhost:8983/solr/docuRAG', always_commit=True, timeout=10)\n"
   ]
  },
  {
   "cell_type": "code",
   "execution_count": null,
   "id": "d0a7000f",
   "metadata": {},
   "outputs": [],
   "source": [
    "doc = {\"id\": \"1\", \"title\": \"Hello Solr\", \"text\": \"Testing connection\"}\n",
    "solr.add([doc])\n",
    "\n",
    "# Search\n"
   ]
  },
  {
   "cell_type": "code",
   "execution_count": 7,
   "id": "fb0f3592",
   "metadata": {},
   "outputs": [
    {
     "name": "stderr",
     "output_type": "stream",
     "text": [
      "INFO:pysolr:Finished 'http://localhost:8983/solr/docuRAG/select/?q=connection&wt=json' (get) with body '' in 0.005 seconds, with status 200\n"
     ]
    },
    {
     "name": "stdout",
     "output_type": "stream",
     "text": [
      "{'id': '1', 'title': 'Hello Solr', 'text': ['Testing connection'], '_version_': 1842788909923172352, '_root_': '1'}\n"
     ]
    }
   ],
   "source": [
    "results = solr.search(\"connection\")\n",
    "for r in results:\n",
    "    print(r)"
   ]
  },
  {
   "cell_type": "code",
   "execution_count": 4,
   "id": "83cb5ab8",
   "metadata": {},
   "outputs": [
    {
     "name": "stderr",
     "output_type": "stream",
     "text": [
      "INFO:pysolr:Finished 'http://localhost:8983/solr/docuRAG/select/?q=%2A%3A%2A&rows=50&wt=json' (get) with body '' in 0.034 seconds, with status 200\n"
     ]
    },
    {
     "name": "stdout",
     "output_type": "stream",
     "text": [
      "{'id': '1', 'title': 'Hello Solr', 'text': ['Testing connection'], '_version_': 1842788909923172352, '_root_': '1'}\n"
     ]
    }
   ],
   "source": [
    "# query all docs, limit 50\n",
    "results = solr.search(\"*:*\", rows=50)\n",
    "\n",
    "for r in results:\n",
    "    print(r)"
   ]
  },
  {
   "cell_type": "code",
   "execution_count": 7,
   "id": "f5fcd86a",
   "metadata": {},
   "outputs": [
    {
     "name": "stdout",
     "output_type": "stream",
     "text": [
      "[{'id': '1', 'title': 'Hello Solr', 'text': ['Testing connection'], '_version_': 1842788909923172352, '_root_': '1'}]\n"
     ]
    }
   ],
   "source": [
    "\n",
    "print(list(solr.search('text:\"Testing connection\"')))"
   ]
  },
  {
   "cell_type": "code",
   "execution_count": 10,
   "id": "225d50e2",
   "metadata": {},
   "outputs": [
    {
     "name": "stdout",
     "output_type": "stream",
     "text": [
      "[{'id': '1', 'title': 'Hello Solr', 'text': ['Testing connection'], '_version_': 1842788909923172352, '_root_': '1'}]\n"
     ]
    }
   ],
   "source": [
    "print(list(solr.search('title:\"Hello\"')))\n"
   ]
  },
  {
   "cell_type": "code",
   "execution_count": 9,
   "id": "ce65fe2e",
   "metadata": {},
   "outputs": [
    {
     "data": {
      "text/plain": [
       "<pysolr.Results at 0x7c0a52340830>"
      ]
     },
     "execution_count": 9,
     "metadata": {},
     "output_type": "execute_result"
    }
   ],
   "source": [
    "solr.search('title:Hello')"
   ]
  },
  {
   "cell_type": "code",
   "execution_count": null,
   "id": "c015c992",
   "metadata": {},
   "outputs": [],
   "source": []
  }
 ],
 "metadata": {
  "kernelspec": {
   "display_name": "docusearch-py312",
   "language": "python",
   "name": "python3"
  },
  "language_info": {
   "codemirror_mode": {
    "name": "ipython",
    "version": 3
   },
   "file_extension": ".py",
   "mimetype": "text/x-python",
   "name": "python",
   "nbconvert_exporter": "python",
   "pygments_lexer": "ipython3",
   "version": "3.12.11"
  }
 },
 "nbformat": 4,
 "nbformat_minor": 5
}
